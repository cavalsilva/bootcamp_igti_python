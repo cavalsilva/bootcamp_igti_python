{
 "metadata": {
  "language_info": {
   "codemirror_mode": {
    "name": "ipython",
    "version": 3
   },
   "file_extension": ".py",
   "mimetype": "text/x-python",
   "name": "python",
   "nbconvert_exporter": "python",
   "pygments_lexer": "ipython3",
   "version": 3
  },
  "orig_nbformat": 2,
  "kernelspec": {
   "name": "python_defaultSpec_1596028680681",
   "display_name": "Python 3.8.3 32-bit"
  }
 },
 "nbformat": 4,
 "nbformat_minor": 2,
 "cells": [
  {
   "cell_type": "markdown",
   "metadata": {},
   "source": [
    "<h1>Enunciado</h1>\n",
    "O uso de bicicletas como meio de transporte ganhou muita força nos últimos anos, seja por questões ambientais, de saúde ou até mesmodeinfraestrutura de trânsito. Para incentivar seu uso, cidades em todo o mundo têm implementado programas de compartilhamento de bicicleta. Nesses sistemas, elas são retiradas e devolvidas em quiosques automatizadosque ficam espalhados pordiversos pontos da cidade.\n",
    "\n",
    "As plataformas de compartilhamento de bicicletas costumam coletar diversos tipos de dados, como aduração da viagem, as localizações iniciais e finais dos percursos, entre outros. Esses dados, em conjunto com informações sobre o clima, o trânsito e o relevo, por exemplo, possibilitam uma análise mais robusta do compartilhamento de bicicletas.\n",
    "\n",
    "Segueum descritivo dos dados coletados:\n",
    "\n",
    "<b>rec_id</b>: índice do registro de locação\n",
    "\n",
    "<b>datetime</b>: data\n",
    "\n",
    "<b>season</b>: estação do ano (1: inverno, 2: primevera, 3: verão, 4: outono). Relativo ao hemisfério norte\n",
    "\n",
    "<b>year</b>: ano (0: 2011, 1:2012)\n",
    "\n",
    "<b>month</b>: mês (1 a 12)\n",
    "\n",
    "<b>hour</b>: hora do dia (0 a 23)\n",
    "\n",
    "<b>is_holiday</b>: booleano indicando feriado\n",
    "\n",
    "<b>weekday</b>: dia da semana (0: domingo, 1: segunda-feira, ..., 6: sábado)\n",
    "\n",
    "<b>is_workingday</b>: booleano indicando dia útil\n",
    "\n",
    "<b>weather_condition</b>: (1: limpo, 2: nublado, 3: chuva leve, 4: chuva forte)\n",
    "\n",
    "<b>temp</b>: Temperatura escalada entre 0 e 1. Valor original em graus Celsius: -8 a 39\n",
    "\n",
    "<b>atemp</b>: Sensação térmica escalada entre 0 e 1. Valor original em graus Celsius: -16 a 50\n",
    "\n",
    "<b>humidity</b>: Humidade relativa (0 a 1)\n",
    "\n",
    "<b>windspeed</b>: Velocidade do vento escalada entre 0 e 1 (máximo original: 67)\n",
    "\n",
    "<b>casual</b>: número de locações para usuários casuais\n",
    "\n",
    "<b>registered</b>: número de locações para usuários registrados\n",
    "\n",
    "<b>total_count</b>: contador total de aluguéis (casual+registered)\n",
    "\n"
   ]
  },
  {
   "cell_type": "code",
   "execution_count": 117,
   "metadata": {},
   "outputs": [],
   "source": [
    "import numpy as np\n",
    "import pandas as pd"
   ]
  },
  {
   "cell_type": "code",
   "execution_count": 118,
   "metadata": {},
   "outputs": [],
   "source": [
    "df = pd.read_csv(\"bike-sharing.csv\")"
   ]
  },
  {
   "cell_type": "code",
   "execution_count": 119,
   "metadata": {
    "tags": []
   },
   "outputs": [
    {
     "output_type": "stream",
     "name": "stdout",
     "text": "<class 'pandas.core.frame.DataFrame'>\nRangeIndex: 17379 entries, 0 to 17378\nData columns (total 17 columns):\n #   Column             Non-Null Count  Dtype  \n---  ------             --------------  -----  \n 0   datetime           17379 non-null  object \n 1   rec_id             17379 non-null  int64  \n 2   season             17379 non-null  int64  \n 3   year               17379 non-null  int64  \n 4   month              17379 non-null  int64  \n 5   hour               17379 non-null  int64  \n 6   is_holiday         17379 non-null  int64  \n 7   weekday            17379 non-null  int64  \n 8   is_workingday      17379 non-null  int64  \n 9   weather_condition  17379 non-null  int64  \n 10  temp               17379 non-null  float64\n 11  atemp              17379 non-null  float64\n 12  humidity           17379 non-null  float64\n 13  windspeed          17379 non-null  float64\n 14  casual             17379 non-null  int64  \n 15  registered         17379 non-null  int64  \n 16  total_count        17379 non-null  int64  \ndtypes: float64(4), int64(12), object(1)\nmemory usage: 2.2+ MB\n"
    }
   ],
   "source": [
    "df.info()"
   ]
  },
  {
   "cell_type": "code",
   "execution_count": 120,
   "metadata": {},
   "outputs": [
    {
     "output_type": "execute_result",
     "data": {
      "text/plain": "           rec_id        season          year         month          hour  \\\ncount  17379.0000  17379.000000  17379.000000  17379.000000  17379.000000   \nmean    8690.0000      2.501640      0.502561      6.537775     11.546752   \nstd     5017.0295      1.106918      0.500008      3.438776      6.914405   \nmin        1.0000      1.000000      0.000000      1.000000      0.000000   \n25%     4345.5000      2.000000      0.000000      4.000000      6.000000   \n50%     8690.0000      3.000000      1.000000      7.000000     12.000000   \n75%    13034.5000      3.000000      1.000000     10.000000     18.000000   \nmax    17379.0000      4.000000      1.000000     12.000000     23.000000   \n\n         is_holiday       weekday  is_workingday  weather_condition  \\\ncount  17379.000000  17379.000000   17379.000000       17379.000000   \nmean       0.028770      3.003683       0.682721           1.425283   \nstd        0.167165      2.005771       0.465431           0.639357   \nmin        0.000000      0.000000       0.000000           1.000000   \n25%        0.000000      1.000000       0.000000           1.000000   \n50%        0.000000      3.000000       1.000000           1.000000   \n75%        0.000000      5.000000       1.000000           2.000000   \nmax        1.000000      6.000000       1.000000           4.000000   \n\n               temp         atemp      humidity     windspeed        casual  \\\ncount  17379.000000  17379.000000  17379.000000  17379.000000  17379.000000   \nmean       0.496987      0.475775      0.627229      0.190098     35.676218   \nstd        0.192556      0.171850      0.192930      0.122340     49.305030   \nmin        0.020000      0.000000      0.000000      0.000000      0.000000   \n25%        0.340000      0.333300      0.480000      0.104500      4.000000   \n50%        0.500000      0.484800      0.630000      0.194000     17.000000   \n75%        0.660000      0.621200      0.780000      0.253700     48.000000   \nmax        1.000000      1.000000      1.000000      0.850700    367.000000   \n\n         registered   total_count  \ncount  17379.000000  17379.000000  \nmean     153.786869    189.463088  \nstd      151.357286    181.387599  \nmin        0.000000      1.000000  \n25%       34.000000     40.000000  \n50%      115.000000    142.000000  \n75%      220.000000    281.000000  \nmax      886.000000    977.000000  ",
      "text/html": "<div>\n<style scoped>\n    .dataframe tbody tr th:only-of-type {\n        vertical-align: middle;\n    }\n\n    .dataframe tbody tr th {\n        vertical-align: top;\n    }\n\n    .dataframe thead th {\n        text-align: right;\n    }\n</style>\n<table border=\"1\" class=\"dataframe\">\n  <thead>\n    <tr style=\"text-align: right;\">\n      <th></th>\n      <th>rec_id</th>\n      <th>season</th>\n      <th>year</th>\n      <th>month</th>\n      <th>hour</th>\n      <th>is_holiday</th>\n      <th>weekday</th>\n      <th>is_workingday</th>\n      <th>weather_condition</th>\n      <th>temp</th>\n      <th>atemp</th>\n      <th>humidity</th>\n      <th>windspeed</th>\n      <th>casual</th>\n      <th>registered</th>\n      <th>total_count</th>\n    </tr>\n  </thead>\n  <tbody>\n    <tr>\n      <th>count</th>\n      <td>17379.0000</td>\n      <td>17379.000000</td>\n      <td>17379.000000</td>\n      <td>17379.000000</td>\n      <td>17379.000000</td>\n      <td>17379.000000</td>\n      <td>17379.000000</td>\n      <td>17379.000000</td>\n      <td>17379.000000</td>\n      <td>17379.000000</td>\n      <td>17379.000000</td>\n      <td>17379.000000</td>\n      <td>17379.000000</td>\n      <td>17379.000000</td>\n      <td>17379.000000</td>\n      <td>17379.000000</td>\n    </tr>\n    <tr>\n      <th>mean</th>\n      <td>8690.0000</td>\n      <td>2.501640</td>\n      <td>0.502561</td>\n      <td>6.537775</td>\n      <td>11.546752</td>\n      <td>0.028770</td>\n      <td>3.003683</td>\n      <td>0.682721</td>\n      <td>1.425283</td>\n      <td>0.496987</td>\n      <td>0.475775</td>\n      <td>0.627229</td>\n      <td>0.190098</td>\n      <td>35.676218</td>\n      <td>153.786869</td>\n      <td>189.463088</td>\n    </tr>\n    <tr>\n      <th>std</th>\n      <td>5017.0295</td>\n      <td>1.106918</td>\n      <td>0.500008</td>\n      <td>3.438776</td>\n      <td>6.914405</td>\n      <td>0.167165</td>\n      <td>2.005771</td>\n      <td>0.465431</td>\n      <td>0.639357</td>\n      <td>0.192556</td>\n      <td>0.171850</td>\n      <td>0.192930</td>\n      <td>0.122340</td>\n      <td>49.305030</td>\n      <td>151.357286</td>\n      <td>181.387599</td>\n    </tr>\n    <tr>\n      <th>min</th>\n      <td>1.0000</td>\n      <td>1.000000</td>\n      <td>0.000000</td>\n      <td>1.000000</td>\n      <td>0.000000</td>\n      <td>0.000000</td>\n      <td>0.000000</td>\n      <td>0.000000</td>\n      <td>1.000000</td>\n      <td>0.020000</td>\n      <td>0.000000</td>\n      <td>0.000000</td>\n      <td>0.000000</td>\n      <td>0.000000</td>\n      <td>0.000000</td>\n      <td>1.000000</td>\n    </tr>\n    <tr>\n      <th>25%</th>\n      <td>4345.5000</td>\n      <td>2.000000</td>\n      <td>0.000000</td>\n      <td>4.000000</td>\n      <td>6.000000</td>\n      <td>0.000000</td>\n      <td>1.000000</td>\n      <td>0.000000</td>\n      <td>1.000000</td>\n      <td>0.340000</td>\n      <td>0.333300</td>\n      <td>0.480000</td>\n      <td>0.104500</td>\n      <td>4.000000</td>\n      <td>34.000000</td>\n      <td>40.000000</td>\n    </tr>\n    <tr>\n      <th>50%</th>\n      <td>8690.0000</td>\n      <td>3.000000</td>\n      <td>1.000000</td>\n      <td>7.000000</td>\n      <td>12.000000</td>\n      <td>0.000000</td>\n      <td>3.000000</td>\n      <td>1.000000</td>\n      <td>1.000000</td>\n      <td>0.500000</td>\n      <td>0.484800</td>\n      <td>0.630000</td>\n      <td>0.194000</td>\n      <td>17.000000</td>\n      <td>115.000000</td>\n      <td>142.000000</td>\n    </tr>\n    <tr>\n      <th>75%</th>\n      <td>13034.5000</td>\n      <td>3.000000</td>\n      <td>1.000000</td>\n      <td>10.000000</td>\n      <td>18.000000</td>\n      <td>0.000000</td>\n      <td>5.000000</td>\n      <td>1.000000</td>\n      <td>2.000000</td>\n      <td>0.660000</td>\n      <td>0.621200</td>\n      <td>0.780000</td>\n      <td>0.253700</td>\n      <td>48.000000</td>\n      <td>220.000000</td>\n      <td>281.000000</td>\n    </tr>\n    <tr>\n      <th>max</th>\n      <td>17379.0000</td>\n      <td>4.000000</td>\n      <td>1.000000</td>\n      <td>12.000000</td>\n      <td>23.000000</td>\n      <td>1.000000</td>\n      <td>6.000000</td>\n      <td>1.000000</td>\n      <td>4.000000</td>\n      <td>1.000000</td>\n      <td>1.000000</td>\n      <td>1.000000</td>\n      <td>0.850700</td>\n      <td>367.000000</td>\n      <td>886.000000</td>\n      <td>977.000000</td>\n    </tr>\n  </tbody>\n</table>\n</div>"
     },
     "metadata": {},
     "execution_count": 120
    }
   ],
   "source": [
    "df.describe()"
   ]
  },
  {
   "cell_type": "code",
   "execution_count": 121,
   "metadata": {},
   "outputs": [
    {
     "output_type": "execute_result",
     "data": {
      "text/plain": "        datetime  rec_id  season  year  month  hour  is_holiday  weekday  \\\n0     2011-01-01       1       1     0      1     0           0        6   \n1     2011-01-01       2       1     0      1     1           0        6   \n2     2011-01-01       3       1     0      1     2           0        6   \n3     2011-01-01       4       1     0      1     3           0        6   \n4     2011-01-01       5       1     0      1     4           0        6   \n...          ...     ...     ...   ...    ...   ...         ...      ...   \n8640  2011-12-31    8641       1     0     12    19           0        6   \n8641  2011-12-31    8642       1     0     12    20           0        6   \n8642  2011-12-31    8643       1     0     12    21           0        6   \n8643  2011-12-31    8644       1     0     12    22           0        6   \n8644  2011-12-31    8645       1     0     12    23           0        6   \n\n      is_workingday  weather_condition  temp   atemp  humidity  windspeed  \\\n0                 0                  1  0.24  0.2879      0.81     0.0000   \n1                 0                  1  0.22  0.2727      0.80     0.0000   \n2                 0                  1  0.22  0.2727      0.80     0.0000   \n3                 0                  1  0.24  0.2879      0.75     0.0000   \n4                 0                  1  0.24  0.2879      0.75     0.0000   \n...             ...                ...   ...     ...       ...        ...   \n8640              0                  1  0.42  0.4242      0.54     0.2239   \n8641              0                  1  0.42  0.4242      0.54     0.2239   \n8642              0                  1  0.40  0.4091      0.58     0.1940   \n8643              0                  1  0.38  0.3939      0.62     0.1343   \n8644              0                  1  0.36  0.3788      0.66     0.0000   \n\n      casual  registered  total_count  \n0          3          13           16  \n1          8          32           40  \n2          5          27           32  \n3          3          10           13  \n4          0           1            1  \n...      ...         ...          ...  \n8640      19          73           92  \n8641       8          63           71  \n8642       2          50           52  \n8643       2          36           38  \n8644       4          27           31  \n\n[8645 rows x 17 columns]",
      "text/html": "<div>\n<style scoped>\n    .dataframe tbody tr th:only-of-type {\n        vertical-align: middle;\n    }\n\n    .dataframe tbody tr th {\n        vertical-align: top;\n    }\n\n    .dataframe thead th {\n        text-align: right;\n    }\n</style>\n<table border=\"1\" class=\"dataframe\">\n  <thead>\n    <tr style=\"text-align: right;\">\n      <th></th>\n      <th>datetime</th>\n      <th>rec_id</th>\n      <th>season</th>\n      <th>year</th>\n      <th>month</th>\n      <th>hour</th>\n      <th>is_holiday</th>\n      <th>weekday</th>\n      <th>is_workingday</th>\n      <th>weather_condition</th>\n      <th>temp</th>\n      <th>atemp</th>\n      <th>humidity</th>\n      <th>windspeed</th>\n      <th>casual</th>\n      <th>registered</th>\n      <th>total_count</th>\n    </tr>\n  </thead>\n  <tbody>\n    <tr>\n      <th>0</th>\n      <td>2011-01-01</td>\n      <td>1</td>\n      <td>1</td>\n      <td>0</td>\n      <td>1</td>\n      <td>0</td>\n      <td>0</td>\n      <td>6</td>\n      <td>0</td>\n      <td>1</td>\n      <td>0.24</td>\n      <td>0.2879</td>\n      <td>0.81</td>\n      <td>0.0000</td>\n      <td>3</td>\n      <td>13</td>\n      <td>16</td>\n    </tr>\n    <tr>\n      <th>1</th>\n      <td>2011-01-01</td>\n      <td>2</td>\n      <td>1</td>\n      <td>0</td>\n      <td>1</td>\n      <td>1</td>\n      <td>0</td>\n      <td>6</td>\n      <td>0</td>\n      <td>1</td>\n      <td>0.22</td>\n      <td>0.2727</td>\n      <td>0.80</td>\n      <td>0.0000</td>\n      <td>8</td>\n      <td>32</td>\n      <td>40</td>\n    </tr>\n    <tr>\n      <th>2</th>\n      <td>2011-01-01</td>\n      <td>3</td>\n      <td>1</td>\n      <td>0</td>\n      <td>1</td>\n      <td>2</td>\n      <td>0</td>\n      <td>6</td>\n      <td>0</td>\n      <td>1</td>\n      <td>0.22</td>\n      <td>0.2727</td>\n      <td>0.80</td>\n      <td>0.0000</td>\n      <td>5</td>\n      <td>27</td>\n      <td>32</td>\n    </tr>\n    <tr>\n      <th>3</th>\n      <td>2011-01-01</td>\n      <td>4</td>\n      <td>1</td>\n      <td>0</td>\n      <td>1</td>\n      <td>3</td>\n      <td>0</td>\n      <td>6</td>\n      <td>0</td>\n      <td>1</td>\n      <td>0.24</td>\n      <td>0.2879</td>\n      <td>0.75</td>\n      <td>0.0000</td>\n      <td>3</td>\n      <td>10</td>\n      <td>13</td>\n    </tr>\n    <tr>\n      <th>4</th>\n      <td>2011-01-01</td>\n      <td>5</td>\n      <td>1</td>\n      <td>0</td>\n      <td>1</td>\n      <td>4</td>\n      <td>0</td>\n      <td>6</td>\n      <td>0</td>\n      <td>1</td>\n      <td>0.24</td>\n      <td>0.2879</td>\n      <td>0.75</td>\n      <td>0.0000</td>\n      <td>0</td>\n      <td>1</td>\n      <td>1</td>\n    </tr>\n    <tr>\n      <th>...</th>\n      <td>...</td>\n      <td>...</td>\n      <td>...</td>\n      <td>...</td>\n      <td>...</td>\n      <td>...</td>\n      <td>...</td>\n      <td>...</td>\n      <td>...</td>\n      <td>...</td>\n      <td>...</td>\n      <td>...</td>\n      <td>...</td>\n      <td>...</td>\n      <td>...</td>\n      <td>...</td>\n      <td>...</td>\n    </tr>\n    <tr>\n      <th>8640</th>\n      <td>2011-12-31</td>\n      <td>8641</td>\n      <td>1</td>\n      <td>0</td>\n      <td>12</td>\n      <td>19</td>\n      <td>0</td>\n      <td>6</td>\n      <td>0</td>\n      <td>1</td>\n      <td>0.42</td>\n      <td>0.4242</td>\n      <td>0.54</td>\n      <td>0.2239</td>\n      <td>19</td>\n      <td>73</td>\n      <td>92</td>\n    </tr>\n    <tr>\n      <th>8641</th>\n      <td>2011-12-31</td>\n      <td>8642</td>\n      <td>1</td>\n      <td>0</td>\n      <td>12</td>\n      <td>20</td>\n      <td>0</td>\n      <td>6</td>\n      <td>0</td>\n      <td>1</td>\n      <td>0.42</td>\n      <td>0.4242</td>\n      <td>0.54</td>\n      <td>0.2239</td>\n      <td>8</td>\n      <td>63</td>\n      <td>71</td>\n    </tr>\n    <tr>\n      <th>8642</th>\n      <td>2011-12-31</td>\n      <td>8643</td>\n      <td>1</td>\n      <td>0</td>\n      <td>12</td>\n      <td>21</td>\n      <td>0</td>\n      <td>6</td>\n      <td>0</td>\n      <td>1</td>\n      <td>0.40</td>\n      <td>0.4091</td>\n      <td>0.58</td>\n      <td>0.1940</td>\n      <td>2</td>\n      <td>50</td>\n      <td>52</td>\n    </tr>\n    <tr>\n      <th>8643</th>\n      <td>2011-12-31</td>\n      <td>8644</td>\n      <td>1</td>\n      <td>0</td>\n      <td>12</td>\n      <td>22</td>\n      <td>0</td>\n      <td>6</td>\n      <td>0</td>\n      <td>1</td>\n      <td>0.38</td>\n      <td>0.3939</td>\n      <td>0.62</td>\n      <td>0.1343</td>\n      <td>2</td>\n      <td>36</td>\n      <td>38</td>\n    </tr>\n    <tr>\n      <th>8644</th>\n      <td>2011-12-31</td>\n      <td>8645</td>\n      <td>1</td>\n      <td>0</td>\n      <td>12</td>\n      <td>23</td>\n      <td>0</td>\n      <td>6</td>\n      <td>0</td>\n      <td>1</td>\n      <td>0.36</td>\n      <td>0.3788</td>\n      <td>0.66</td>\n      <td>0.0000</td>\n      <td>4</td>\n      <td>27</td>\n      <td>31</td>\n    </tr>\n  </tbody>\n</table>\n<p>8645 rows × 17 columns</p>\n</div>"
     },
     "metadata": {},
     "execution_count": 121
    }
   ],
   "source": [
    "# Quantos registros de locações existem para o ano de 2011?\n",
    "df[df['year'] == 0]"
   ]
  },
  {
   "cell_type": "code",
   "execution_count": 122,
   "metadata": {},
   "outputs": [
    {
     "output_type": "execute_result",
     "data": {
      "text/plain": "         datetime  rec_id  season  year  month  hour  is_holiday  weekday  \\\n8645   2012-01-01    8646       1     1      1     0           0        0   \n8646   2012-01-01    8647       1     1      1     1           0        0   \n8647   2012-01-01    8648       1     1      1     2           0        0   \n8648   2012-01-01    8649       1     1      1     3           0        0   \n8649   2012-01-01    8650       1     1      1     4           0        0   \n...           ...     ...     ...   ...    ...   ...         ...      ...   \n17374  2012-12-31   17375       1     1     12    19           0        1   \n17375  2012-12-31   17376       1     1     12    20           0        1   \n17376  2012-12-31   17377       1     1     12    21           0        1   \n17377  2012-12-31   17378       1     1     12    22           0        1   \n17378  2012-12-31   17379       1     1     12    23           0        1   \n\n       is_workingday  weather_condition  temp   atemp  humidity  windspeed  \\\n8645               0                  1  0.36  0.3788      0.66     0.0000   \n8646               0                  1  0.36  0.3485      0.66     0.1343   \n8647               0                  1  0.32  0.3485      0.76     0.0000   \n8648               0                  1  0.30  0.3333      0.81     0.0000   \n8649               0                  1  0.28  0.3030      0.81     0.0896   \n...              ...                ...   ...     ...       ...        ...   \n17374              1                  2  0.26  0.2576      0.60     0.1642   \n17375              1                  2  0.26  0.2576      0.60     0.1642   \n17376              1                  1  0.26  0.2576      0.60     0.1642   \n17377              1                  1  0.26  0.2727      0.56     0.1343   \n17378              1                  1  0.26  0.2727      0.65     0.1343   \n\n       casual  registered  total_count  \n8645        5          43           48  \n8646       15          78           93  \n8647       16          59           75  \n8648       11          41           52  \n8649        0           8            8  \n...       ...         ...          ...  \n17374      11         108          119  \n17375       8          81           89  \n17376       7          83           90  \n17377      13          48           61  \n17378      12          37           49  \n\n[8734 rows x 17 columns]",
      "text/html": "<div>\n<style scoped>\n    .dataframe tbody tr th:only-of-type {\n        vertical-align: middle;\n    }\n\n    .dataframe tbody tr th {\n        vertical-align: top;\n    }\n\n    .dataframe thead th {\n        text-align: right;\n    }\n</style>\n<table border=\"1\" class=\"dataframe\">\n  <thead>\n    <tr style=\"text-align: right;\">\n      <th></th>\n      <th>datetime</th>\n      <th>rec_id</th>\n      <th>season</th>\n      <th>year</th>\n      <th>month</th>\n      <th>hour</th>\n      <th>is_holiday</th>\n      <th>weekday</th>\n      <th>is_workingday</th>\n      <th>weather_condition</th>\n      <th>temp</th>\n      <th>atemp</th>\n      <th>humidity</th>\n      <th>windspeed</th>\n      <th>casual</th>\n      <th>registered</th>\n      <th>total_count</th>\n    </tr>\n  </thead>\n  <tbody>\n    <tr>\n      <th>8645</th>\n      <td>2012-01-01</td>\n      <td>8646</td>\n      <td>1</td>\n      <td>1</td>\n      <td>1</td>\n      <td>0</td>\n      <td>0</td>\n      <td>0</td>\n      <td>0</td>\n      <td>1</td>\n      <td>0.36</td>\n      <td>0.3788</td>\n      <td>0.66</td>\n      <td>0.0000</td>\n      <td>5</td>\n      <td>43</td>\n      <td>48</td>\n    </tr>\n    <tr>\n      <th>8646</th>\n      <td>2012-01-01</td>\n      <td>8647</td>\n      <td>1</td>\n      <td>1</td>\n      <td>1</td>\n      <td>1</td>\n      <td>0</td>\n      <td>0</td>\n      <td>0</td>\n      <td>1</td>\n      <td>0.36</td>\n      <td>0.3485</td>\n      <td>0.66</td>\n      <td>0.1343</td>\n      <td>15</td>\n      <td>78</td>\n      <td>93</td>\n    </tr>\n    <tr>\n      <th>8647</th>\n      <td>2012-01-01</td>\n      <td>8648</td>\n      <td>1</td>\n      <td>1</td>\n      <td>1</td>\n      <td>2</td>\n      <td>0</td>\n      <td>0</td>\n      <td>0</td>\n      <td>1</td>\n      <td>0.32</td>\n      <td>0.3485</td>\n      <td>0.76</td>\n      <td>0.0000</td>\n      <td>16</td>\n      <td>59</td>\n      <td>75</td>\n    </tr>\n    <tr>\n      <th>8648</th>\n      <td>2012-01-01</td>\n      <td>8649</td>\n      <td>1</td>\n      <td>1</td>\n      <td>1</td>\n      <td>3</td>\n      <td>0</td>\n      <td>0</td>\n      <td>0</td>\n      <td>1</td>\n      <td>0.30</td>\n      <td>0.3333</td>\n      <td>0.81</td>\n      <td>0.0000</td>\n      <td>11</td>\n      <td>41</td>\n      <td>52</td>\n    </tr>\n    <tr>\n      <th>8649</th>\n      <td>2012-01-01</td>\n      <td>8650</td>\n      <td>1</td>\n      <td>1</td>\n      <td>1</td>\n      <td>4</td>\n      <td>0</td>\n      <td>0</td>\n      <td>0</td>\n      <td>1</td>\n      <td>0.28</td>\n      <td>0.3030</td>\n      <td>0.81</td>\n      <td>0.0896</td>\n      <td>0</td>\n      <td>8</td>\n      <td>8</td>\n    </tr>\n    <tr>\n      <th>...</th>\n      <td>...</td>\n      <td>...</td>\n      <td>...</td>\n      <td>...</td>\n      <td>...</td>\n      <td>...</td>\n      <td>...</td>\n      <td>...</td>\n      <td>...</td>\n      <td>...</td>\n      <td>...</td>\n      <td>...</td>\n      <td>...</td>\n      <td>...</td>\n      <td>...</td>\n      <td>...</td>\n      <td>...</td>\n    </tr>\n    <tr>\n      <th>17374</th>\n      <td>2012-12-31</td>\n      <td>17375</td>\n      <td>1</td>\n      <td>1</td>\n      <td>12</td>\n      <td>19</td>\n      <td>0</td>\n      <td>1</td>\n      <td>1</td>\n      <td>2</td>\n      <td>0.26</td>\n      <td>0.2576</td>\n      <td>0.60</td>\n      <td>0.1642</td>\n      <td>11</td>\n      <td>108</td>\n      <td>119</td>\n    </tr>\n    <tr>\n      <th>17375</th>\n      <td>2012-12-31</td>\n      <td>17376</td>\n      <td>1</td>\n      <td>1</td>\n      <td>12</td>\n      <td>20</td>\n      <td>0</td>\n      <td>1</td>\n      <td>1</td>\n      <td>2</td>\n      <td>0.26</td>\n      <td>0.2576</td>\n      <td>0.60</td>\n      <td>0.1642</td>\n      <td>8</td>\n      <td>81</td>\n      <td>89</td>\n    </tr>\n    <tr>\n      <th>17376</th>\n      <td>2012-12-31</td>\n      <td>17377</td>\n      <td>1</td>\n      <td>1</td>\n      <td>12</td>\n      <td>21</td>\n      <td>0</td>\n      <td>1</td>\n      <td>1</td>\n      <td>1</td>\n      <td>0.26</td>\n      <td>0.2576</td>\n      <td>0.60</td>\n      <td>0.1642</td>\n      <td>7</td>\n      <td>83</td>\n      <td>90</td>\n    </tr>\n    <tr>\n      <th>17377</th>\n      <td>2012-12-31</td>\n      <td>17378</td>\n      <td>1</td>\n      <td>1</td>\n      <td>12</td>\n      <td>22</td>\n      <td>0</td>\n      <td>1</td>\n      <td>1</td>\n      <td>1</td>\n      <td>0.26</td>\n      <td>0.2727</td>\n      <td>0.56</td>\n      <td>0.1343</td>\n      <td>13</td>\n      <td>48</td>\n      <td>61</td>\n    </tr>\n    <tr>\n      <th>17378</th>\n      <td>2012-12-31</td>\n      <td>17379</td>\n      <td>1</td>\n      <td>1</td>\n      <td>12</td>\n      <td>23</td>\n      <td>0</td>\n      <td>1</td>\n      <td>1</td>\n      <td>1</td>\n      <td>0.26</td>\n      <td>0.2727</td>\n      <td>0.65</td>\n      <td>0.1343</td>\n      <td>12</td>\n      <td>37</td>\n      <td>49</td>\n    </tr>\n  </tbody>\n</table>\n<p>8734 rows × 17 columns</p>\n</div>"
     },
     "metadata": {},
     "execution_count": 122
    }
   ],
   "source": [
    "# Quantos registros de locações existem para o ano de 2012?\n",
    "df[df['year'] == 1]"
   ]
  },
  {
   "cell_type": "code",
   "execution_count": 123,
   "metadata": {},
   "outputs": [
    {
     "output_type": "execute_result",
     "data": {
      "text/plain": "datetime             2011-01-012011-01-012011-01-012011-01-012011-0...\nrec_id                                                        37372335\nseason                                                           21730\nyear                                                                 0\nmonth                                                            56832\nhour                                                            100054\nis_holiday                                                         239\nweekday                                                          26045\nis_workingday                                                     5911\nweather_condition                                                12428\ntemp                                                              4228\natemp                                                          4054.51\nhumidity                                                       5562.45\nwindspeed                                                      1652.68\ncasual                                                          247252\nregistered                                                      995851\ntotal_count                                                    1243103\ndtype: object"
     },
     "metadata": {},
     "execution_count": 123
    }
   ],
   "source": [
    "# Quantas locações de bicicletas foram efetuadas em 2011?\n",
    "df2011 = df[df['year'] == 0]\n",
    "df2011.sum()"
   ]
  },
  {
   "cell_type": "code",
   "execution_count": 124,
   "metadata": {},
   "outputs": [
    {
     "output_type": "execute_result",
     "data": {
      "text/plain": "datetime             2012-01-012012-01-012012-01-012012-01-012012-0...\nrec_id                                                       113651175\nseason                                                           21746\nyear                                                              8734\nmonth                                                            56788\nhour                                                            100617\nis_holiday                                                         261\nweekday                                                          26156\nis_workingday                                                     5954\nweather_condition                                                12342\ntemp                                                           4409.14\natemp                                                          4213.99\nhumidity                                                       5338.16\nwindspeed                                                      1651.02\ncasual                                                          372765\nregistered                                                     1676811\ntotal_count                                                    2049576\ndtype: object"
     },
     "metadata": {},
     "execution_count": 124
    }
   ],
   "source": [
    "# Quantas locações de bicicletas foram efetuadas em 2012?\n",
    "df2012 = df[df['year'] == 1]\n",
    "df2012.sum()"
   ]
  },
  {
   "cell_type": "code",
   "execution_count": 125,
   "metadata": {
    "tags": []
   },
   "outputs": [
    {
     "output_type": "stream",
     "name": "stdout",
     "text": "inverno: 111.11456859971712\nprimavera: 208.34406894987526\nverao: 236.01623665480426\noutono: 198.86885633270322\n"
    }
   ],
   "source": [
    "# Qual estação do ano contém a maior média de locações de bicicletas?\n",
    "inverno = df[df['season'] == 1]\n",
    "print('inverno:', inverno['total_count'].mean())\n",
    "\n",
    "primavera = df[df['season'] == 2]\n",
    "print('primavera:', primavera['total_count'].mean())\n",
    "\n",
    "verao = df[df['season'] == 3]\n",
    "print('verao:', verao['total_count'].mean())\n",
    "\n",
    "outono = df[df['season'] == 4]\n",
    "print('outono:', outono['total_count'].mean())"
   ]
  },
  {
   "cell_type": "code",
   "execution_count": 126,
   "metadata": {},
   "outputs": [
    {
     "output_type": "execute_result",
     "data": {
      "text/plain": "hour\n17    461.452055\n18    425.510989\n8     359.011004\n16    311.983562\n19    311.523352\n13    253.661180\n12    253.315934\n15    251.233196\n14    240.949246\n20    226.030220\n9     219.309491\n7     212.064649\n11    208.143054\n10    173.668501\n21    172.314560\n22    131.335165\n23     87.831044\n6      76.044138\n0      53.898072\n1      33.375691\n2      22.869930\n5      19.889819\n3      11.727403\n4       6.352941\nName: total_count, dtype: float64"
     },
     "metadata": {},
     "execution_count": 126
    }
   ],
   "source": [
    "# Qual horário do dia contém a maior média de locações de bicicletas? \n",
    "maior_media_locacao = df.groupby(by=['hour']).mean()\n",
    "maior_media_locacao['total_count'].sort_values(ascending=False)"
   ]
  },
  {
   "cell_type": "code",
   "execution_count": 127,
   "metadata": {},
   "outputs": [
    {
     "output_type": "execute_result",
     "data": {
      "text/plain": "hour\n4       6.352941\n3      11.727403\n5      19.889819\n2      22.869930\n1      33.375691\n0      53.898072\n6      76.044138\n23     87.831044\n22    131.335165\n21    172.314560\n10    173.668501\n11    208.143054\n7     212.064649\n9     219.309491\n20    226.030220\n14    240.949246\n15    251.233196\n12    253.315934\n13    253.661180\n19    311.523352\n16    311.983562\n8     359.011004\n18    425.510989\n17    461.452055\nName: total_count, dtype: float64"
     },
     "metadata": {},
     "execution_count": 127
    }
   ],
   "source": [
    "# Qual horário do dia contém a menor média de locações de bicicletas? \n",
    "menor_media_locacao = df.groupby(by=['hour']).mean()\n",
    "menor_media_locacao['total_count'].sort_values(ascending=True)"
   ]
  },
  {
   "cell_type": "code",
   "execution_count": 128,
   "metadata": {},
   "outputs": [
    {
     "output_type": "execute_result",
     "data": {
      "text/plain": "weekday\n4    196.436665\n5    196.135907\n2    191.238891\n3    191.130505\n6    190.209793\n1    183.744655\n0    177.468825\nName: total_count, dtype: float64"
     },
     "metadata": {},
     "execution_count": 128
    }
   ],
   "source": [
    "# Que dia da semana contém a maior média de locações de bicicletas?\n",
    "dia_da_semana_maior_locacao = df.groupby(by=['weekday']).mean()\n",
    "dia_da_semana_maior_locacao['total_count'].sort_values(ascending=False)"
   ]
  },
  {
   "cell_type": "code",
   "execution_count": 129,
   "metadata": {},
   "outputs": [
    {
     "output_type": "execute_result",
     "data": {
      "text/plain": "weekday\n0    177.468825\n1    183.744655\n6    190.209793\n3    191.130505\n2    191.238891\n5    196.135907\n4    196.436665\nName: total_count, dtype: float64"
     },
     "metadata": {},
     "execution_count": 129
    }
   ],
   "source": [
    "# Que dia da semana contém a menor média de locações de bicicletas?\n",
    "dia_da_semana_menor_locacao = df.groupby(by=['weekday']).mean()\n",
    "dia_da_semana_menor_locacao['total_count'].sort_values(ascending=True)"
   ]
  },
  {
   "cell_type": "code",
   "execution_count": 130,
   "metadata": {},
   "outputs": [
    {
     "output_type": "execute_result",
     "data": {
      "text/plain": "hour\n17    513.144231\n18    494.029126\n8     488.326923\n19    357.504854\n7     303.980769\n16    272.961538\n20    256.660194\n9     238.528846\n21    194.669903\n12    193.903846\n13    185.826923\n15    181.288462\n14    170.548077\n11    152.201923\n22    143.689320\n10    131.894231\n6     107.807692\n23     83.737864\n0      34.557692\n5      25.750000\n1      15.336538\n2       7.813725\n4       4.968750\n3       4.888889\nName: total_count, dtype: float64"
     },
     "metadata": {},
     "execution_count": 130
    }
   ],
   "source": [
    "# Às quartas-feiras (weekday = 3), qual o horário do dia contém a maior média de locações de bicicletas? \n",
    "df_quarta_feira = df[df['weekday'] == 3]\n",
    "df_horario_quarta_feira = df_quarta_feira.groupby(by=['hour']).mean()\n",
    "df_horario_quarta_feira['total_count'].sort_values(ascending=False)"
   ]
  },
  {
   "cell_type": "code",
   "execution_count": 131,
   "metadata": {},
   "outputs": [
    {
     "output_type": "execute_result",
     "data": {
      "text/plain": "hour\n13    385.371429\n15    382.428571\n14    381.333333\n12    375.380952\n16    366.142857\n17    334.409524\n11    328.609524\n18    292.048077\n10    263.723810\n19    239.932692\n9     186.790476\n20    180.865385\n21    156.000000\n22    139.663462\n23    115.855769\n8     114.476190\n0      94.304762\n1      67.780952\n2      50.495238\n7      45.961905\n3      22.885714\n6      21.000000\n5       8.291262\n4       7.657143\nName: total_count, dtype: float64"
     },
     "metadata": {},
     "execution_count": 131
    }
   ],
   "source": [
    "# Aos sábados (weekday = 6), qual o horário do dia contém a maior média de locações de bicicletas? \n",
    "df_sabado = df[df['weekday'] == 6]\n",
    "df_horario_sabado = df_sabado.groupby(by=['hour']).mean()\n",
    "df_horario_sabado['total_count'].sort_values(ascending=False)"
   ]
  },
  {
   "cell_type": "code",
   "execution_count": null,
   "metadata": {},
   "outputs": [],
   "source": []
  }
 ]
}