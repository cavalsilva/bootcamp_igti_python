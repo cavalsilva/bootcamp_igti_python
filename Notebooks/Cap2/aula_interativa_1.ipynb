{
  "nbformat": 4,
  "nbformat_minor": 0,
  "metadata": {
    "colab": {
      "name": "[IGTI] Bootcamp - Aula Interativa 1.ipynb",
      "provenance": [],
      "collapsed_sections": []
    },
    "kernelspec": {
      "name": "python_defaultSpec_1596133083191",
      "display_name": "Python 3.8.3 32-bit"
    },
    "widgets": {
      "application/vnd.jupyter.widget-state+json": {
        "40e435548fa34affb394f547f296e3a3": {
          "model_module": "@jupyter-widgets/controls",
          "model_name": "HBoxModel",
          "state": {
            "_view_name": "HBoxView",
            "_dom_classes": [],
            "_model_name": "HBoxModel",
            "_view_module": "@jupyter-widgets/controls",
            "_model_module_version": "1.5.0",
            "_view_count": null,
            "_view_module_version": "1.5.0",
            "box_style": "",
            "layout": "IPY_MODEL_27ba0fe0e2424eb6bcb05cec455779fc",
            "_model_module": "@jupyter-widgets/controls",
            "children": [
              "IPY_MODEL_d8bfb86874d04a2d9a0c3c10cb6852c4",
              "IPY_MODEL_d0bed1f931f84f5abaf4a4636ef99e6b"
            ]
          }
        },
        "27ba0fe0e2424eb6bcb05cec455779fc": {
          "model_module": "@jupyter-widgets/base",
          "model_name": "LayoutModel",
          "state": {
            "_view_name": "LayoutView",
            "grid_template_rows": null,
            "right": null,
            "justify_content": null,
            "_view_module": "@jupyter-widgets/base",
            "overflow": null,
            "_model_module_version": "1.2.0",
            "_view_count": null,
            "flex_flow": null,
            "width": null,
            "min_width": null,
            "border": null,
            "align_items": null,
            "bottom": null,
            "_model_module": "@jupyter-widgets/base",
            "top": null,
            "grid_column": null,
            "overflow_y": null,
            "overflow_x": null,
            "grid_auto_flow": null,
            "grid_area": null,
            "grid_template_columns": null,
            "flex": null,
            "_model_name": "LayoutModel",
            "justify_items": null,
            "grid_row": null,
            "max_height": null,
            "align_content": null,
            "visibility": null,
            "align_self": null,
            "height": null,
            "min_height": null,
            "padding": null,
            "grid_auto_rows": null,
            "grid_gap": null,
            "max_width": null,
            "order": null,
            "_view_module_version": "1.2.0",
            "grid_template_areas": null,
            "object_position": null,
            "object_fit": null,
            "grid_auto_columns": null,
            "margin": null,
            "display": null,
            "left": null
          }
        },
        "d8bfb86874d04a2d9a0c3c10cb6852c4": {
          "model_module": "@jupyter-widgets/controls",
          "model_name": "FloatProgressModel",
          "state": {
            "_view_name": "ProgressView",
            "style": "IPY_MODEL_ac47fabdd18341f9baea3033270dc456",
            "_dom_classes": [],
            "description": "Summarize dataset: 100%",
            "_model_name": "FloatProgressModel",
            "bar_style": "success",
            "max": 38,
            "_view_module": "@jupyter-widgets/controls",
            "_model_module_version": "1.5.0",
            "value": 38,
            "_view_count": null,
            "_view_module_version": "1.5.0",
            "orientation": "horizontal",
            "min": 0,
            "description_tooltip": null,
            "_model_module": "@jupyter-widgets/controls",
            "layout": "IPY_MODEL_ce9fd505bd4e4d8399d3c2aea34e3883"
          }
        },
        "d0bed1f931f84f5abaf4a4636ef99e6b": {
          "model_module": "@jupyter-widgets/controls",
          "model_name": "HTMLModel",
          "state": {
            "_view_name": "HTMLView",
            "style": "IPY_MODEL_95ec53c81dcf4595b419aa4123976a3b",
            "_dom_classes": [],
            "description": "",
            "_model_name": "HTMLModel",
            "placeholder": "​",
            "_view_module": "@jupyter-widgets/controls",
            "_model_module_version": "1.5.0",
            "value": " 38/38 [00:22&lt;00:00,  1.70it/s, Completed]",
            "_view_count": null,
            "_view_module_version": "1.5.0",
            "description_tooltip": null,
            "_model_module": "@jupyter-widgets/controls",
            "layout": "IPY_MODEL_d62d255cdb084c67aad2b317cea9a873"
          }
        },
        "ac47fabdd18341f9baea3033270dc456": {
          "model_module": "@jupyter-widgets/controls",
          "model_name": "ProgressStyleModel",
          "state": {
            "_view_name": "StyleView",
            "_model_name": "ProgressStyleModel",
            "description_width": "initial",
            "_view_module": "@jupyter-widgets/base",
            "_model_module_version": "1.5.0",
            "_view_count": null,
            "_view_module_version": "1.2.0",
            "bar_color": null,
            "_model_module": "@jupyter-widgets/controls"
          }
        },
        "ce9fd505bd4e4d8399d3c2aea34e3883": {
          "model_module": "@jupyter-widgets/base",
          "model_name": "LayoutModel",
          "state": {
            "_view_name": "LayoutView",
            "grid_template_rows": null,
            "right": null,
            "justify_content": null,
            "_view_module": "@jupyter-widgets/base",
            "overflow": null,
            "_model_module_version": "1.2.0",
            "_view_count": null,
            "flex_flow": null,
            "width": null,
            "min_width": null,
            "border": null,
            "align_items": null,
            "bottom": null,
            "_model_module": "@jupyter-widgets/base",
            "top": null,
            "grid_column": null,
            "overflow_y": null,
            "overflow_x": null,
            "grid_auto_flow": null,
            "grid_area": null,
            "grid_template_columns": null,
            "flex": null,
            "_model_name": "LayoutModel",
            "justify_items": null,
            "grid_row": null,
            "max_height": null,
            "align_content": null,
            "visibility": null,
            "align_self": null,
            "height": null,
            "min_height": null,
            "padding": null,
            "grid_auto_rows": null,
            "grid_gap": null,
            "max_width": null,
            "order": null,
            "_view_module_version": "1.2.0",
            "grid_template_areas": null,
            "object_position": null,
            "object_fit": null,
            "grid_auto_columns": null,
            "margin": null,
            "display": null,
            "left": null
          }
        },
        "95ec53c81dcf4595b419aa4123976a3b": {
          "model_module": "@jupyter-widgets/controls",
          "model_name": "DescriptionStyleModel",
          "state": {
            "_view_name": "StyleView",
            "_model_name": "DescriptionStyleModel",
            "description_width": "",
            "_view_module": "@jupyter-widgets/base",
            "_model_module_version": "1.5.0",
            "_view_count": null,
            "_view_module_version": "1.2.0",
            "_model_module": "@jupyter-widgets/controls"
          }
        },
        "d62d255cdb084c67aad2b317cea9a873": {
          "model_module": "@jupyter-widgets/base",
          "model_name": "LayoutModel",
          "state": {
            "_view_name": "LayoutView",
            "grid_template_rows": null,
            "right": null,
            "justify_content": null,
            "_view_module": "@jupyter-widgets/base",
            "overflow": null,
            "_model_module_version": "1.2.0",
            "_view_count": null,
            "flex_flow": null,
            "width": null,
            "min_width": null,
            "border": null,
            "align_items": null,
            "bottom": null,
            "_model_module": "@jupyter-widgets/base",
            "top": null,
            "grid_column": null,
            "overflow_y": null,
            "overflow_x": null,
            "grid_auto_flow": null,
            "grid_area": null,
            "grid_template_columns": null,
            "flex": null,
            "_model_name": "LayoutModel",
            "justify_items": null,
            "grid_row": null,
            "max_height": null,
            "align_content": null,
            "visibility": null,
            "align_self": null,
            "height": null,
            "min_height": null,
            "padding": null,
            "grid_auto_rows": null,
            "grid_gap": null,
            "max_width": null,
            "order": null,
            "_view_module_version": "1.2.0",
            "grid_template_areas": null,
            "object_position": null,
            "object_fit": null,
            "grid_auto_columns": null,
            "margin": null,
            "display": null,
            "left": null
          }
        },
        "c8a65da9cc9145efaa84053a7f766ee5": {
          "model_module": "@jupyter-widgets/controls",
          "model_name": "HBoxModel",
          "state": {
            "_view_name": "HBoxView",
            "_dom_classes": [],
            "_model_name": "HBoxModel",
            "_view_module": "@jupyter-widgets/controls",
            "_model_module_version": "1.5.0",
            "_view_count": null,
            "_view_module_version": "1.5.0",
            "box_style": "",
            "layout": "IPY_MODEL_f01b34ed0e8545038dde3acd9690e2fa",
            "_model_module": "@jupyter-widgets/controls",
            "children": [
              "IPY_MODEL_a8ff61c342c24414aef6c81d1d9da3f4",
              "IPY_MODEL_9c58a1ca1f0248e192ab80f4175ec39d"
            ]
          }
        },
        "f01b34ed0e8545038dde3acd9690e2fa": {
          "model_module": "@jupyter-widgets/base",
          "model_name": "LayoutModel",
          "state": {
            "_view_name": "LayoutView",
            "grid_template_rows": null,
            "right": null,
            "justify_content": null,
            "_view_module": "@jupyter-widgets/base",
            "overflow": null,
            "_model_module_version": "1.2.0",
            "_view_count": null,
            "flex_flow": null,
            "width": null,
            "min_width": null,
            "border": null,
            "align_items": null,
            "bottom": null,
            "_model_module": "@jupyter-widgets/base",
            "top": null,
            "grid_column": null,
            "overflow_y": null,
            "overflow_x": null,
            "grid_auto_flow": null,
            "grid_area": null,
            "grid_template_columns": null,
            "flex": null,
            "_model_name": "LayoutModel",
            "justify_items": null,
            "grid_row": null,
            "max_height": null,
            "align_content": null,
            "visibility": null,
            "align_self": null,
            "height": null,
            "min_height": null,
            "padding": null,
            "grid_auto_rows": null,
            "grid_gap": null,
            "max_width": null,
            "order": null,
            "_view_module_version": "1.2.0",
            "grid_template_areas": null,
            "object_position": null,
            "object_fit": null,
            "grid_auto_columns": null,
            "margin": null,
            "display": null,
            "left": null
          }
        },
        "a8ff61c342c24414aef6c81d1d9da3f4": {
          "model_module": "@jupyter-widgets/controls",
          "model_name": "FloatProgressModel",
          "state": {
            "_view_name": "ProgressView",
            "style": "IPY_MODEL_1143dfee92f044f883c5fc69957262f8",
            "_dom_classes": [],
            "description": "Generate report structure: 100%",
            "_model_name": "FloatProgressModel",
            "bar_style": "success",
            "max": 1,
            "_view_module": "@jupyter-widgets/controls",
            "_model_module_version": "1.5.0",
            "value": 1,
            "_view_count": null,
            "_view_module_version": "1.5.0",
            "orientation": "horizontal",
            "min": 0,
            "description_tooltip": null,
            "_model_module": "@jupyter-widgets/controls",
            "layout": "IPY_MODEL_14a5156801b94554a416fc7b939cac7c"
          }
        },
        "9c58a1ca1f0248e192ab80f4175ec39d": {
          "model_module": "@jupyter-widgets/controls",
          "model_name": "HTMLModel",
          "state": {
            "_view_name": "HTMLView",
            "style": "IPY_MODEL_ef49a444f60a481a9cb51384395d9be5",
            "_dom_classes": [],
            "description": "",
            "_model_name": "HTMLModel",
            "placeholder": "​",
            "_view_module": "@jupyter-widgets/controls",
            "_model_module_version": "1.5.0",
            "value": " 1/1 [00:11&lt;00:00, 11.36s/it]",
            "_view_count": null,
            "_view_module_version": "1.5.0",
            "description_tooltip": null,
            "_model_module": "@jupyter-widgets/controls",
            "layout": "IPY_MODEL_823f134ce07e4646a5b8e775e37d53ce"
          }
        },
        "1143dfee92f044f883c5fc69957262f8": {
          "model_module": "@jupyter-widgets/controls",
          "model_name": "ProgressStyleModel",
          "state": {
            "_view_name": "StyleView",
            "_model_name": "ProgressStyleModel",
            "description_width": "initial",
            "_view_module": "@jupyter-widgets/base",
            "_model_module_version": "1.5.0",
            "_view_count": null,
            "_view_module_version": "1.2.0",
            "bar_color": null,
            "_model_module": "@jupyter-widgets/controls"
          }
        },
        "14a5156801b94554a416fc7b939cac7c": {
          "model_module": "@jupyter-widgets/base",
          "model_name": "LayoutModel",
          "state": {
            "_view_name": "LayoutView",
            "grid_template_rows": null,
            "right": null,
            "justify_content": null,
            "_view_module": "@jupyter-widgets/base",
            "overflow": null,
            "_model_module_version": "1.2.0",
            "_view_count": null,
            "flex_flow": null,
            "width": null,
            "min_width": null,
            "border": null,
            "align_items": null,
            "bottom": null,
            "_model_module": "@jupyter-widgets/base",
            "top": null,
            "grid_column": null,
            "overflow_y": null,
            "overflow_x": null,
            "grid_auto_flow": null,
            "grid_area": null,
            "grid_template_columns": null,
            "flex": null,
            "_model_name": "LayoutModel",
            "justify_items": null,
            "grid_row": null,
            "max_height": null,
            "align_content": null,
            "visibility": null,
            "align_self": null,
            "height": null,
            "min_height": null,
            "padding": null,
            "grid_auto_rows": null,
            "grid_gap": null,
            "max_width": null,
            "order": null,
            "_view_module_version": "1.2.0",
            "grid_template_areas": null,
            "object_position": null,
            "object_fit": null,
            "grid_auto_columns": null,
            "margin": null,
            "display": null,
            "left": null
          }
        },
        "ef49a444f60a481a9cb51384395d9be5": {
          "model_module": "@jupyter-widgets/controls",
          "model_name": "DescriptionStyleModel",
          "state": {
            "_view_name": "StyleView",
            "_model_name": "DescriptionStyleModel",
            "description_width": "",
            "_view_module": "@jupyter-widgets/base",
            "_model_module_version": "1.5.0",
            "_view_count": null,
            "_view_module_version": "1.2.0",
            "_model_module": "@jupyter-widgets/controls"
          }
        },
        "823f134ce07e4646a5b8e775e37d53ce": {
          "model_module": "@jupyter-widgets/base",
          "model_name": "LayoutModel",
          "state": {
            "_view_name": "LayoutView",
            "grid_template_rows": null,
            "right": null,
            "justify_content": null,
            "_view_module": "@jupyter-widgets/base",
            "overflow": null,
            "_model_module_version": "1.2.0",
            "_view_count": null,
            "flex_flow": null,
            "width": null,
            "min_width": null,
            "border": null,
            "align_items": null,
            "bottom": null,
            "_model_module": "@jupyter-widgets/base",
            "top": null,
            "grid_column": null,
            "overflow_y": null,
            "overflow_x": null,
            "grid_auto_flow": null,
            "grid_area": null,
            "grid_template_columns": null,
            "flex": null,
            "_model_name": "LayoutModel",
            "justify_items": null,
            "grid_row": null,
            "max_height": null,
            "align_content": null,
            "visibility": null,
            "align_self": null,
            "height": null,
            "min_height": null,
            "padding": null,
            "grid_auto_rows": null,
            "grid_gap": null,
            "max_width": null,
            "order": null,
            "_view_module_version": "1.2.0",
            "grid_template_areas": null,
            "object_position": null,
            "object_fit": null,
            "grid_auto_columns": null,
            "margin": null,
            "display": null,
            "left": null
          }
        },
        "d81297842bed48b2b39d1106c29ccb90": {
          "model_module": "@jupyter-widgets/controls",
          "model_name": "HBoxModel",
          "state": {
            "_view_name": "HBoxView",
            "_dom_classes": [],
            "_model_name": "HBoxModel",
            "_view_module": "@jupyter-widgets/controls",
            "_model_module_version": "1.5.0",
            "_view_count": null,
            "_view_module_version": "1.5.0",
            "box_style": "",
            "layout": "IPY_MODEL_75e112f4e27f41459c74be3ef5451f63",
            "_model_module": "@jupyter-widgets/controls",
            "children": [
              "IPY_MODEL_20b87a29f7b5495083b35795887f9c85",
              "IPY_MODEL_933fdb212ec4439ab1998060a85ec50c"
            ]
          }
        },
        "75e112f4e27f41459c74be3ef5451f63": {
          "model_module": "@jupyter-widgets/base",
          "model_name": "LayoutModel",
          "state": {
            "_view_name": "LayoutView",
            "grid_template_rows": null,
            "right": null,
            "justify_content": null,
            "_view_module": "@jupyter-widgets/base",
            "overflow": null,
            "_model_module_version": "1.2.0",
            "_view_count": null,
            "flex_flow": null,
            "width": null,
            "min_width": null,
            "border": null,
            "align_items": null,
            "bottom": null,
            "_model_module": "@jupyter-widgets/base",
            "top": null,
            "grid_column": null,
            "overflow_y": null,
            "overflow_x": null,
            "grid_auto_flow": null,
            "grid_area": null,
            "grid_template_columns": null,
            "flex": null,
            "_model_name": "LayoutModel",
            "justify_items": null,
            "grid_row": null,
            "max_height": null,
            "align_content": null,
            "visibility": null,
            "align_self": null,
            "height": null,
            "min_height": null,
            "padding": null,
            "grid_auto_rows": null,
            "grid_gap": null,
            "max_width": null,
            "order": null,
            "_view_module_version": "1.2.0",
            "grid_template_areas": null,
            "object_position": null,
            "object_fit": null,
            "grid_auto_columns": null,
            "margin": null,
            "display": null,
            "left": null
          }
        },
        "20b87a29f7b5495083b35795887f9c85": {
          "model_module": "@jupyter-widgets/controls",
          "model_name": "FloatProgressModel",
          "state": {
            "_view_name": "ProgressView",
            "style": "IPY_MODEL_e3892beee1d647158afeb13c85e714f1",
            "_dom_classes": [],
            "description": "Render HTML: 100%",
            "_model_name": "FloatProgressModel",
            "bar_style": "success",
            "max": 1,
            "_view_module": "@jupyter-widgets/controls",
            "_model_module_version": "1.5.0",
            "value": 1,
            "_view_count": null,
            "_view_module_version": "1.5.0",
            "orientation": "horizontal",
            "min": 0,
            "description_tooltip": null,
            "_model_module": "@jupyter-widgets/controls",
            "layout": "IPY_MODEL_735f426b66df44839e0b0b86bc0bdf5e"
          }
        },
        "933fdb212ec4439ab1998060a85ec50c": {
          "model_module": "@jupyter-widgets/controls",
          "model_name": "HTMLModel",
          "state": {
            "_view_name": "HTMLView",
            "style": "IPY_MODEL_1cec2ad0f88041bf9b88d54b3c229cd2",
            "_dom_classes": [],
            "description": "",
            "_model_name": "HTMLModel",
            "placeholder": "​",
            "_view_module": "@jupyter-widgets/controls",
            "_model_module_version": "1.5.0",
            "value": " 1/1 [00:01&lt;00:00,  1.73s/it]",
            "_view_count": null,
            "_view_module_version": "1.5.0",
            "description_tooltip": null,
            "_model_module": "@jupyter-widgets/controls",
            "layout": "IPY_MODEL_65ce47314cbf49d38987e70fb8144483"
          }
        },
        "e3892beee1d647158afeb13c85e714f1": {
          "model_module": "@jupyter-widgets/controls",
          "model_name": "ProgressStyleModel",
          "state": {
            "_view_name": "StyleView",
            "_model_name": "ProgressStyleModel",
            "description_width": "initial",
            "_view_module": "@jupyter-widgets/base",
            "_model_module_version": "1.5.0",
            "_view_count": null,
            "_view_module_version": "1.2.0",
            "bar_color": null,
            "_model_module": "@jupyter-widgets/controls"
          }
        },
        "735f426b66df44839e0b0b86bc0bdf5e": {
          "model_module": "@jupyter-widgets/base",
          "model_name": "LayoutModel",
          "state": {
            "_view_name": "LayoutView",
            "grid_template_rows": null,
            "right": null,
            "justify_content": null,
            "_view_module": "@jupyter-widgets/base",
            "overflow": null,
            "_model_module_version": "1.2.0",
            "_view_count": null,
            "flex_flow": null,
            "width": null,
            "min_width": null,
            "border": null,
            "align_items": null,
            "bottom": null,
            "_model_module": "@jupyter-widgets/base",
            "top": null,
            "grid_column": null,
            "overflow_y": null,
            "overflow_x": null,
            "grid_auto_flow": null,
            "grid_area": null,
            "grid_template_columns": null,
            "flex": null,
            "_model_name": "LayoutModel",
            "justify_items": null,
            "grid_row": null,
            "max_height": null,
            "align_content": null,
            "visibility": null,
            "align_self": null,
            "height": null,
            "min_height": null,
            "padding": null,
            "grid_auto_rows": null,
            "grid_gap": null,
            "max_width": null,
            "order": null,
            "_view_module_version": "1.2.0",
            "grid_template_areas": null,
            "object_position": null,
            "object_fit": null,
            "grid_auto_columns": null,
            "margin": null,
            "display": null,
            "left": null
          }
        },
        "1cec2ad0f88041bf9b88d54b3c229cd2": {
          "model_module": "@jupyter-widgets/controls",
          "model_name": "DescriptionStyleModel",
          "state": {
            "_view_name": "StyleView",
            "_model_name": "DescriptionStyleModel",
            "description_width": "",
            "_view_module": "@jupyter-widgets/base",
            "_model_module_version": "1.5.0",
            "_view_count": null,
            "_view_module_version": "1.2.0",
            "_model_module": "@jupyter-widgets/controls"
          }
        },
        "65ce47314cbf49d38987e70fb8144483": {
          "model_module": "@jupyter-widgets/base",
          "model_name": "LayoutModel",
          "state": {
            "_view_name": "LayoutView",
            "grid_template_rows": null,
            "right": null,
            "justify_content": null,
            "_view_module": "@jupyter-widgets/base",
            "overflow": null,
            "_model_module_version": "1.2.0",
            "_view_count": null,
            "flex_flow": null,
            "width": null,
            "min_width": null,
            "border": null,
            "align_items": null,
            "bottom": null,
            "_model_module": "@jupyter-widgets/base",
            "top": null,
            "grid_column": null,
            "overflow_y": null,
            "overflow_x": null,
            "grid_auto_flow": null,
            "grid_area": null,
            "grid_template_columns": null,
            "flex": null,
            "_model_name": "LayoutModel",
            "justify_items": null,
            "grid_row": null,
            "max_height": null,
            "align_content": null,
            "visibility": null,
            "align_self": null,
            "height": null,
            "min_height": null,
            "padding": null,
            "grid_auto_rows": null,
            "grid_gap": null,
            "max_width": null,
            "order": null,
            "_view_module_version": "1.2.0",
            "grid_template_areas": null,
            "object_position": null,
            "object_fit": null,
            "grid_auto_columns": null,
            "margin": null,
            "display": null,
            "left": null
          }
        }
      }
    }
  },
  "cells": [
    {
      "cell_type": "markdown",
      "metadata": {
        "id": "8qclQJmNL4l4",
        "colab_type": "text"
      },
      "source": [
        "# Movies dataset"
      ]
    },
    {
      "cell_type": "markdown",
      "metadata": {
        "id": "qUX3D2cbMBCN",
        "colab_type": "text"
      },
      "source": [
        "## Contexto\n",
        "\n",
        "Esta base de dados consiste de filmes lançados até julho de 2017. Os dados incluem elenco, equipe, gênero, orçamento, receita, datas de lançamento, idiomas, empresas de produção, países, contagem de votos e média de votos.\n"
      ]
    },
    {
      "cell_type": "markdown",
      "metadata": {
        "id": "A-q3ZUVKOWwf",
        "colab_type": "text"
      },
      "source": [
        "\n",
        "## Referências\n",
        "\n",
        "- https://www.kaggle.com/rounakbanik/the-movies-dataset\n",
        "- https://www.kaggle.com/ibtesama/getting-started-with-a-movie-recommendation-system\n"
      ]
    },
    {
      "cell_type": "markdown",
      "metadata": {
        "id": "AAJVcbyEOgFu",
        "colab_type": "text"
      },
      "source": [
        "## Análise exploratória dos dados\n",
        "\n",
        "O dataset que iremos trabalhar possui os seguintes (principais) atributos:\n",
        "\n",
        "* **budget** - The budget in which the movie was made.\n",
        "* **genre** - The genre of the movie, Action, Comedy ,Thriller etc.\n",
        "* **homepage** - A link to the homepage of the movie.\n",
        "* **id** - This is infact the movie_id as in the first dataset.\n",
        "* **keywords** - The keywords or tags related to the movie.\n",
        "* **original_language** - The language in which the movie was made.\n",
        "* **original_title** - The title of the movie before translation or adaptation.\n",
        "* **overview** - A brief description of the movie.\n",
        "* **popularity** - A numeric quantity specifying the movie popularity.\n",
        "* **production_companies** - The production house of the movie.\n",
        "* **production_countries** - The country in which it was produced.\n",
        "* **release_date** - The date on which it was released.\n",
        "* **revenue** - The worldwide revenue generated by the movie.\n",
        "* **runtime** - The running time of the movie in minutes.\n",
        "* **status** - \"Released\" or \"Rumored\".\n",
        "* **tagline** - Movie's tagline.\n",
        "* **title** - Title of the movie.\n",
        "* **vote_average** - average ratings the movie recieved.\n",
        "* **vote_count** - the count of votes recieved."
      ]
    },
    {
      "cell_type": "code",
      "metadata": {
        "id": "llOuVqegUbfr",
        "colab_type": "code",
        "colab": {}
      },
      "source": [
        "# atualização de versão dos pacotes\n",
        "# !pip install --upgrade numpy\n",
        "# !pip install --upgrade pandas\n",
        "# !pip install --upgrade matplotlib"
      ],
      "execution_count": null,
      "outputs": []
    },
    {
      "cell_type": "code",
      "metadata": {
        "id": "biUyg0znLrzU",
        "colab_type": "code",
        "colab": {}
      },
      "source": [
        "# importando as bibliotecas\n",
        "import numpy as np\n",
        "import pandas as pd\n",
        "import matplotlib.pyplot as plt"
      ],
      "execution_count": null,
      "outputs": []
    },
    {
      "cell_type": "markdown",
      "metadata": {
        "id": "1BMvtVysXz6r",
        "colab_type": "text"
      },
      "source": [
        "## Leitura e limpeza dos dados"
      ]
    },
    {
      "cell_type": "code",
      "metadata": {
        "id": "1eyqHc-WL2JS",
        "colab_type": "code",
        "colab": {
          "base_uri": "https://localhost:8080/",
          "height": 685
        },
        "outputId": "3fe4a0e0-acaf-44a0-e03d-20d54cb74228"
      },
      "source": [
        "# leitura dos dados\n",
        "df = pd.read_csv(\"https://pycourse.s3.amazonaws.com/movies.csv\")\n",
        "df.head()"
      ],
      "execution_count": null,
      "outputs": []
    },
    {
      "cell_type": "code",
      "metadata": {
        "id": "aU0EcvV0TnBn",
        "colab_type": "code",
        "colab": {}
      },
      "source": [
        "# DICA: pandas profile https://github.com/pandas-profiling/pandas-profiling\n",
        "# !pip install pandas-profiling\n",
        "# !pip install --upgrade pandas-profiling"
      ],
      "execution_count": null,
      "outputs": []
    },
    {
      "cell_type": "code",
      "metadata": {
        "id": "GKNgEdqfTv21",
        "colab_type": "code",
        "colab": {}
      },
      "source": [
        "# descritivo dos dados\n",
        "from pandas_profiling import ProfileReport\n",
        "\n",
        "profile = ProfileReport(df, title=\"Movies dataset\")"
      ],
      "execution_count": null,
      "outputs": []
    },
    {
      "cell_type": "code",
      "metadata": {
        "id": "615BT5jKVrDW",
        "colab_type": "code",
        "colab": {
          "base_uri": "https://localhost:8080/",
          "height": 970,
          "referenced_widgets": [
            "40e435548fa34affb394f547f296e3a3",
            "27ba0fe0e2424eb6bcb05cec455779fc",
            "d8bfb86874d04a2d9a0c3c10cb6852c4",
            "d0bed1f931f84f5abaf4a4636ef99e6b",
            "ac47fabdd18341f9baea3033270dc456",
            "ce9fd505bd4e4d8399d3c2aea34e3883",
            "95ec53c81dcf4595b419aa4123976a3b",
            "d62d255cdb084c67aad2b317cea9a873",
            "c8a65da9cc9145efaa84053a7f766ee5",
            "f01b34ed0e8545038dde3acd9690e2fa",
            "a8ff61c342c24414aef6c81d1d9da3f4",
            "9c58a1ca1f0248e192ab80f4175ec39d",
            "1143dfee92f044f883c5fc69957262f8",
            "14a5156801b94554a416fc7b939cac7c",
            "ef49a444f60a481a9cb51384395d9be5",
            "823f134ce07e4646a5b8e775e37d53ce",
            "d81297842bed48b2b39d1106c29ccb90",
            "75e112f4e27f41459c74be3ef5451f63",
            "20b87a29f7b5495083b35795887f9c85",
            "933fdb212ec4439ab1998060a85ec50c",
            "e3892beee1d647158afeb13c85e714f1",
            "735f426b66df44839e0b0b86bc0bdf5e",
            "1cec2ad0f88041bf9b88d54b3c229cd2",
            "65ce47314cbf49d38987e70fb8144483"
          ]
        },
        "outputId": "7278dac4-9938-44c5-afbb-d562d97ab813"
      },
      "source": [
        "profile"
      ],
      "execution_count": null,
      "outputs": []
    },
    {
      "cell_type": "code",
      "metadata": {
        "id": "JBB1LuttW058",
        "colab_type": "code",
        "colab": {
          "base_uri": "https://localhost:8080/",
          "height": 575
        },
        "outputId": "74b7a5be-f673-4089-af25-a79bb2cf8833"
      },
      "source": [
        "# info\n",
        "df.info()"
      ],
      "execution_count": null,
      "outputs": []
    },
    {
      "cell_type": "code",
      "metadata": {
        "id": "1DpjLxUoRkQo",
        "colab_type": "code",
        "colab": {}
      },
      "source": [
        "# limpeza: remoção de colunas com poucas entradas válidas\n",
        "df.drop(['belongs_to_collection',\n",
        "         'homepage',\n",
        "         'tagline'],\n",
        "         axis='columns',\n",
        "         inplace=True)"
      ],
      "execution_count": null,
      "outputs": []
    },
    {
      "cell_type": "code",
      "metadata": {
        "id": "C0PP7GeVSVc0",
        "colab_type": "code",
        "colab": {}
      },
      "source": [
        "# limpeza: remoção de colunas com pouca variabilidade ou\n",
        "# irrelevante para a análise\n",
        "df.drop(['adult', 'overview'],\n",
        "        axis='columns',\n",
        "        inplace=True)"
      ],
      "execution_count": null,
      "outputs": []
    },
    {
      "cell_type": "code",
      "metadata": {
        "id": "Wo9-ZmbKXZWG",
        "colab_type": "code",
        "colab": {
          "base_uri": "https://localhost:8080/",
          "height": 485
        },
        "outputId": "ae571ab5-fc95-495f-f36d-6f84b2f194c4"
      },
      "source": [
        "# info\n",
        "df.info()"
      ],
      "execution_count": null,
      "outputs": []
    },
    {
      "cell_type": "code",
      "metadata": {
        "id": "ZmmmugZvXNd9",
        "colab_type": "code",
        "colab": {}
      },
      "source": [
        " # limpeza: remoção de linhas com dados faltantes\n",
        " df.dropna(axis='index', inplace=True)"
      ],
      "execution_count": null,
      "outputs": []
    },
    {
      "cell_type": "code",
      "metadata": {
        "id": "s72i45IWXonC",
        "colab_type": "code",
        "colab": {
          "base_uri": "https://localhost:8080/",
          "height": 485
        },
        "outputId": "5a10a38d-d328-4bf7-df53-4df079595401"
      },
      "source": [
        "# info\n",
        "df.info()"
      ],
      "execution_count": null,
      "outputs": []
    },
    {
      "cell_type": "code",
      "metadata": {
        "id": "mFQiabrEZ67Y",
        "colab_type": "code",
        "colab": {
          "base_uri": "https://localhost:8080/",
          "height": 479
        },
        "outputId": "84e103db-b147-4133-cf2e-1a2d816d47f8"
      },
      "source": [
        "# dados filtrados\n",
        "df.head()"
      ],
      "execution_count": null,
      "outputs": []
    },
    {
      "cell_type": "markdown",
      "metadata": {
        "id": "gj1CegMvYxsJ",
        "colab_type": "text"
      },
      "source": [
        "## Estruturando os dados"
      ]
    },
    {
      "cell_type": "markdown",
      "metadata": {
        "id": "rm-x5GBaY5_k",
        "colab_type": "text"
      },
      "source": [
        "Alguns atributos apresentam a seguinte estrutura: `[{'id': id, 'name':name}]`.\n",
        "\n",
        "Precisamos definir uma estrutura mais simples para análise..."
      ]
    },
    {
      "cell_type": "code",
      "metadata": {
        "id": "pYz7sJMXYeFF",
        "colab_type": "code",
        "colab": {
          "base_uri": "https://localhost:8080/",
          "height": 204
        },
        "outputId": "53befa04-edbb-48cd-decf-8130675434ac"
      },
      "source": [
        "# estrutura original\n",
        "df[['genres',\n",
        "    'production_countries',\n",
        "    'spoken_languages']].head()"
      ],
      "execution_count": null,
      "outputs": []
    },
    {
      "cell_type": "markdown",
      "metadata": {
        "id": "wnSUfllJZuag",
        "colab_type": "text"
      },
      "source": [
        "Iremos codificar esses atributos através da operação de one-hot-encoding:\n",
        "\n",
        "![ohe-hot-enconding](https://pycourse.s3.amazonaws.com/ohe.png)"
      ]
    },
    {
      "cell_type": "code",
      "metadata": {
        "id": "cjCsvItXZlWk",
        "colab_type": "code",
        "colab": {}
      },
      "source": [
        "import json\n",
        "\n",
        "def list_to_ohe(df: pd.DataFrame, cols: list):\n",
        "\n",
        "  # para cada coluna\n",
        "  n_rows = df.shape[0]\n",
        "  df.reset_index(inplace=True, drop=True)\n",
        "  for col_i in cols:\n",
        "\n",
        "    # selecionado a coluna\n",
        "    dfi = df[col_i]\n",
        "\n",
        "    # dicionário para mapeamento\n",
        "    new_cols = {}\n",
        "\n",
        "    # percorrendo cada linha do dataframe\n",
        "    for i, row in enumerate(dfi):\n",
        "\n",
        "      # leitura da string como um JSON\n",
        "      row = row.replace(\"\\'\", \"\\\"\")\n",
        "      list_i = json.loads(row)\n",
        "\n",
        "      # percorrendo cada elemento da lista\n",
        "      for elem in list_i:\n",
        "      \n",
        "        # nova coluna com a categoria\n",
        "        new_col_name = col_i + '_' + elem['name']  # col_[nome_categoria]\n",
        "\n",
        "   \n",
        "        if new_col_name not in new_cols:\n",
        "          new_cols[new_col_name] = np.zeros((n_rows))\n",
        "        \n",
        "        # atribui classificação\n",
        "        new_cols[new_col_name][i] = 1\n",
        "    \n",
        "    # append new columns     # adiciona nova coluna\n",
        "        if new_col_name not in new_cols:\n",
        "          new_cols[new_col_name] = np.zeros((n_rows))\n",
        "        \n",
        "        # atribui classificação\n",
        "        new_cols[new_col_name][i] = 1\n",
        "    \n",
        "    # append new columns\n",
        "    new_df = pd.DataFrame(new_cols)\n",
        "    df = pd.concat([df, new_df],\n",
        "                   axis=1).reset_index(drop=True) \n",
        "  \n",
        "  return df"
      ],
      "execution_count": null,
      "outputs": []
    },
    {
      "cell_type": "code",
      "metadata": {
        "id": "MCMwGZ0Hh761",
        "colab_type": "code",
        "colab": {
          "base_uri": "https://localhost:8080/",
          "height": 53
        },
        "outputId": "39f56842-038c-4b28-b1ee-e96010cc38a2"
      },
      "source": [
        "# colunas para transformar\n",
        "cols_to_transform = ['genres']\n",
        "\n",
        "print('Shape antes:', df.shape)\n",
        "df = list_to_ohe(df, cols=cols_to_transform)\n",
        "print('Shape depois:', df.shape)\n"
      ],
      "execution_count": null,
      "outputs": []
    },
    {
      "cell_type": "code",
      "metadata": {
        "id": "MalGAEXluyB4",
        "colab_type": "code",
        "colab": {
          "base_uri": "https://localhost:8080/",
          "height": 395
        },
        "outputId": "5a163109-b959-4e45-c128-bed94304ebfd"
      },
      "source": [
        "# verificando novas colunas de generos de filmes\n",
        "genres_attr = [col for col in df if col.startswith('genres_')]\n",
        "print(\"Colunas de gênero de filme inseridas:\\n\",\n",
        "      np.array(genres_attr).reshape(-1, 1))"
      ],
      "execution_count": null,
      "outputs": []
    },
    {
      "cell_type": "code",
      "metadata": {
        "id": "egQqLarNw4Wq",
        "colab_type": "code",
        "colab": {
          "base_uri": "https://localhost:8080/",
          "height": 496
        },
        "outputId": "dabb01a2-2677-4d5a-e625-d97b8e6a8d1e"
      },
      "source": [
        "# dataframe tratado\n",
        "df.head()"
      ],
      "execution_count": null,
      "outputs": []
    },
    {
      "cell_type": "markdown",
      "metadata": {
        "id": "HI1obvG7yNEf",
        "colab_type": "text"
      },
      "source": [
        "## Análise"
      ]
    },
    {
      "cell_type": "markdown",
      "metadata": {
        "id": "Y9uh9l6lyO_Q",
        "colab_type": "text"
      },
      "source": [
        "### Definindo um score\n",
        "\n",
        "Precisamos definir um score para comparar avaliações entre filmes, para levar em conta a quantidade de avaliações que cada filme recebeu. Para isso, será utilizada a fórmula do IMDB para definição do score de um filme:\n",
        "\n",
        "$$\\mathrm{Weighted~Rating~(WR)} = \\frac{v}{v+m}R + \\frac{m}{v+m}C,$$\n",
        "\n",
        "onde:\n",
        "\n",
        "- $v$ é o número de avaliações (**vote_count**);\n",
        "- $m$ é o número mínimo de avaliações necessárias para contabilização;\n",
        "- $R$ é a nota média do filme (**vote_average**);\n",
        "- $C$ é a média de todas as notas.\n",
        "\n",
        "A variável $C$ pode ser calculada da seguinte maneira:\n"
      ]
    },
    {
      "cell_type": "code",
      "metadata": {
        "id": "su2INZb30wj6",
        "colab_type": "code",
        "colab": {
          "base_uri": "https://localhost:8080/",
          "height": 35
        },
        "outputId": "624cfe49-3225-4a59-ad0a-00dc51ab5020"
      },
      "source": [
        "# quantidade de filmes sem avaliação\n",
        "cond = df['vote_count'] < 1e-3 # 0.001\n",
        "print(\"Quantidade de filmes sem avaliação:\", sum(cond))"
      ],
      "execution_count": null,
      "outputs": []
    },
    {
      "cell_type": "code",
      "metadata": {
        "id": "7Q768krT18D2",
        "colab_type": "code",
        "colab": {
          "base_uri": "https://localhost:8080/",
          "height": 35
        },
        "outputId": "8f7dadc0-f815-40c6-b82e-dc491aa59616"
      },
      "source": [
        "# removendo da análise filmes que não receberam avaliações\n",
        "df = df.loc[~cond]\n",
        "print(\"Novo shape:\", df.shape)"
      ],
      "execution_count": null,
      "outputs": []
    },
    {
      "cell_type": "code",
      "metadata": {
        "id": "xbmYlte22PzA",
        "colab_type": "code",
        "colab": {
          "base_uri": "https://localhost:8080/",
          "height": 35
        },
        "outputId": "069228b0-eeb8-4928-a38e-384653573af8"
      },
      "source": [
        "# verificando operação\n",
        "cond = df['vote_count'] < 1e-3\n",
        "print(\"Quantidade de filmes sem avaliação:\", sum(cond))"
      ],
      "execution_count": null,
      "outputs": []
    },
    {
      "cell_type": "code",
      "metadata": {
        "id": "cHrIBlycyEzF",
        "colab_type": "code",
        "colab": {
          "base_uri": "https://localhost:8080/",
          "height": 35
        },
        "outputId": "bbb2e07e-ef96-4e75-a983-ed8f837d7032"
      },
      "source": [
        "# C: nota média entre todos os filmes\n",
        "C = df['vote_average'].mean()\n",
        "print(\"Média de todas as notas (C):\", C)"
      ],
      "execution_count": null,
      "outputs": []
    },
    {
      "cell_type": "markdown",
      "metadata": {
        "id": "zx2eEOZH0mRI",
        "colab_type": "text"
      },
      "source": [
        "O número mínimo de votos pode ser obtido a partir dos percentis de **vote_count**. Iremos levar em consideração na análise somente os filmes que receberam mais votos que pelo menos 75\\%  dos filmes da lista."
      ]
    },
    {
      "cell_type": "code",
      "metadata": {
        "id": "VHTcRd5128r_",
        "colab_type": "code",
        "colab": {
          "base_uri": "https://localhost:8080/",
          "height": 297
        },
        "outputId": "d185fc3d-b3ca-457f-d871-cb145c1d1843"
      },
      "source": [
        "# estatísticas dos votos\n",
        "df[['vote_count']].describe()"
      ],
      "execution_count": null,
      "outputs": []
    },
    {
      "cell_type": "code",
      "metadata": {
        "id": "AWo8vj9e0eJr",
        "colab_type": "code",
        "colab": {
          "base_uri": "https://localhost:8080/",
          "height": 35
        },
        "outputId": "f789c939-9f7d-4cf6-808b-f10eadd7b4df"
      },
      "source": [
        "# m: número mínimo de votos para análise\n",
        "m = df['vote_count'].quantile(0.9)\n",
        "print(\"Número mínimo de votos (m):\", m)"
      ],
      "execution_count": null,
      "outputs": []
    },
    {
      "cell_type": "code",
      "metadata": {
        "id": "ecvVJ3PS1e9M",
        "colab_type": "code",
        "colab": {}
      },
      "source": [
        "# filtrando o dataset\n",
        "df = df[df['vote_count']>m]"
      ],
      "execution_count": null,
      "outputs": []
    },
    {
      "cell_type": "markdown",
      "metadata": {
        "id": "VV6lA8HX5eWd",
        "colab_type": "text"
      },
      "source": [
        "Cálculo do score:"
      ]
    },
    {
      "cell_type": "code",
      "metadata": {
        "id": "1qrC6Ihy5jXg",
        "colab_type": "code",
        "colab": {}
      },
      "source": [
        "# adição da nova coluna com o score\n",
        "v = df['vote_count']\n",
        "R = df['vote_average']\n",
        "df.loc[:, 'score'] = v/(v+m) * R + m/(m+v) * C"
      ],
      "execution_count": null,
      "outputs": []
    },
    {
      "cell_type": "code",
      "metadata": {
        "id": "RxjLvv4j5X0E",
        "colab_type": "code",
        "colab": {}
      },
      "source": [
        "# ordenando o dataframe pelo score calculado\n",
        "df.sort_values(by='score',\n",
        "               ascending=False,\n",
        "               inplace=True)\n",
        "df.reset_index(inplace=True)"
      ],
      "execution_count": null,
      "outputs": []
    },
    {
      "cell_type": "markdown",
      "metadata": {
        "id": "mxLgbl1GFinL",
        "colab_type": "text"
      },
      "source": [
        "### TOP 10: score"
      ]
    },
    {
      "cell_type": "code",
      "metadata": {
        "id": "vDN6yHYz6UGu",
        "colab_type": "code",
        "colab": {
          "base_uri": "https://localhost:8080/",
          "height": 359
        },
        "outputId": "2cd8321a-ca21-4083-a217-f9ca860872ac"
      },
      "source": [
        "# TOP 10: score\n",
        "df[['original_title', 'vote_count', 'vote_average', 'score']].head(10)"
      ],
      "execution_count": null,
      "outputs": []
    },
    {
      "cell_type": "code",
      "metadata": {
        "id": "FoLlMXhqGX9I",
        "colab_type": "code",
        "colab": {
          "base_uri": "https://localhost:8080/",
          "height": 395
        },
        "outputId": "8a16b772-b9d0-4af9-b0fb-3e84f75626b5"
      },
      "source": [
        "# gênero de filmes no TOP 10 de score\n",
        "df_top_score = df[:10]\n",
        "\n",
        "# contagem de gêneros\n",
        "df_top_score_gen = df_top_score[genres_attr].sum().sort_values(ascending=False)\n",
        "df_top_score_gen"
      ],
      "execution_count": null,
      "outputs": []
    },
    {
      "cell_type": "code",
      "metadata": {
        "id": "5guVXxGLLW9g",
        "colab_type": "code",
        "colab": {}
      },
      "source": [
        "# color map\n",
        "from matplotlib import cm\n",
        "cmap = cm.get_cmap('Set3') "
      ],
      "execution_count": null,
      "outputs": []
    },
    {
      "cell_type": "code",
      "metadata": {
        "id": "_PA_1HVcHfZC",
        "colab_type": "code",
        "colab": {
          "base_uri": "https://localhost:8080/",
          "height": 388
        },
        "outputId": "212c5e63-ed02-4b5f-fe36-bf077f0c1577"
      },
      "source": [
        "# retirando valores nulos\n",
        "df_top_score_gen = df_top_score_gen[df_top_score_gen > 0]\n",
        "\n",
        "# formatação dos nomes para visualização\n",
        "labels = [gen[7:] for gen in df_top_score_gen.index]\n",
        "\n",
        "# plot\n",
        "df_top_score_gen.plot.pie(autopct='%1.1f%%',\n",
        "                          pctdistance=0.8,\n",
        "                          radius=1.25,\n",
        "                          labels=labels,\n",
        "                          cmap=cmap)\n",
        "plt.ylabel(' ')\n",
        "plt.suptitle('Gêneros mais frequentes no TOP 10 (score)');"
      ],
      "execution_count": null,
      "outputs": []
    },
    {
      "cell_type": "markdown",
      "metadata": {
        "id": "Yk5-xT4uFnf8",
        "colab_type": "text"
      },
      "source": [
        "### TOP 10: popularidade"
      ]
    },
    {
      "cell_type": "code",
      "metadata": {
        "id": "WtZTGVgn_A2c",
        "colab_type": "code",
        "colab": {}
      },
      "source": [
        "# ordenando o dataframe pela popularidade\n",
        "df['popularity'] = df['popularity'].astype(float) \n",
        "df_top_pop = df.sort_values(by='popularity',\n",
        "                            ascending=False)"
      ],
      "execution_count": null,
      "outputs": []
    },
    {
      "cell_type": "code",
      "metadata": {
        "id": "CfLtqvxr_K68",
        "colab_type": "code",
        "colab": {
          "base_uri": "https://localhost:8080/",
          "height": 359
        },
        "outputId": "9c5c4838-862d-4424-e6df-42a28b58f88f"
      },
      "source": [
        "# TOP 10: popularidade\n",
        "df_top_pop[['original_title', 'score', 'popularity']].head(10)"
      ],
      "execution_count": null,
      "outputs": []
    },
    {
      "cell_type": "code",
      "metadata": {
        "id": "ahtcYgqn_MWB",
        "colab_type": "code",
        "colab": {
          "base_uri": "https://localhost:8080/",
          "height": 350
        },
        "outputId": "315c6f41-e3db-4756-b5ec-39170eefc397"
      },
      "source": [
        "# visualização dos filmes mais populares\n",
        "df_top_pop[:10].plot.barh(x='original_title',\n",
        "                          y=['popularity'])\n",
        "plt.gca().invert_yaxis();"
      ],
      "execution_count": null,
      "outputs": []
    },
    {
      "cell_type": "code",
      "metadata": {
        "id": "Bv5X9hc6LkD0",
        "colab_type": "code",
        "colab": {
          "base_uri": "https://localhost:8080/",
          "height": 251
        },
        "outputId": "1573f654-64ba-4dac-a044-aac70531351f"
      },
      "source": [
        "# gênero de filmes no TOP 10 de popularity\n",
        "df_top_pop_gen = df_top_pop[genres_attr]\n",
        "df_top_pop_gen = df_top_pop_gen[:10].sum().sort_values(ascending=False)\n",
        "\n",
        "# filtro em valores maiores que 0\n",
        "df_top_pop_gen = df_top_pop_gen[df_top_pop_gen > 0]\n",
        "df_top_pop_gen"
      ],
      "execution_count": null,
      "outputs": []
    },
    {
      "cell_type": "code",
      "metadata": {
        "id": "fLafTeRVNrgE",
        "colab_type": "code",
        "colab": {
          "base_uri": "https://localhost:8080/",
          "height": 388
        },
        "outputId": "821f0dea-f58a-4454-a6f4-0d0068e5e0a7"
      },
      "source": [
        "# formatação dos nomes para visualização\n",
        "labels = [gen[7:] for gen in df_top_pop_gen.index]\n",
        "\n",
        "# plot\n",
        "df_top_pop_gen.plot.pie(autopct='%1.1f%%',\n",
        "                          pctdistance=0.8,\n",
        "                          radius=1.25,\n",
        "                          labels=labels,\n",
        "                          cmap=cmap)\n",
        "plt.ylabel(' ')\n",
        "plt.suptitle('Gêneros mais frequentes no TOP 10 (popularidade)');"
      ],
      "execution_count": null,
      "outputs": []
    },
    {
      "cell_type": "markdown",
      "metadata": {
        "id": "mTJ5VKGqFsN2",
        "colab_type": "text"
      },
      "source": [
        "### TOP 10: receita"
      ]
    },
    {
      "cell_type": "code",
      "metadata": {
        "id": "2gELJ2LVEhJe",
        "colab_type": "code",
        "colab": {}
      },
      "source": [
        "# ordenando o dataframe pela receita\n",
        "df['revenue'] = df['revenue']/1e6  # em milhões de dólares\n",
        "df_top_rev = df.sort_values(by='revenue',\n",
        "                            ascending=False)"
      ],
      "execution_count": null,
      "outputs": []
    },
    {
      "cell_type": "code",
      "metadata": {
        "id": "Rprmf1c_E16M",
        "colab_type": "code",
        "colab": {
          "base_uri": "https://localhost:8080/",
          "height": 359
        },
        "outputId": "536ec5ee-5ce5-44cf-ee52-e696d853ed65"
      },
      "source": [
        "# TOP 10: receita\n",
        "df_top_rev[['original_title', 'score', 'popularity', 'revenue']].head(10)"
      ],
      "execution_count": null,
      "outputs": []
    },
    {
      "cell_type": "code",
      "metadata": {
        "id": "Y2ZbUMWaF0ue",
        "colab_type": "code",
        "colab": {
          "base_uri": "https://localhost:8080/",
          "height": 197
        },
        "outputId": "a0067dde-a8c4-413b-914d-f5120668cada"
      },
      "source": [
        "# gênero de filmes no TOP 10 de revenue\n",
        "df_top_rev_gen = df_top_rev[genres_attr]\n",
        "df_top_rev_gen = df_top_rev_gen[:10].sum().sort_values(ascending=False)\n",
        "\n",
        "# filtro em valores maiores que 0\n",
        "df_top_rev_gen = df_top_rev_gen[df_top_rev_gen > 0]\n",
        "df_top_rev_gen"
      ],
      "execution_count": null,
      "outputs": []
    },
    {
      "cell_type": "code",
      "metadata": {
        "id": "O8kVaKVmRKZL",
        "colab_type": "code",
        "colab": {
          "base_uri": "https://localhost:8080/",
          "height": 389
        },
        "outputId": "2328352c-f9d4-47f5-944e-a270aa141d45"
      },
      "source": [
        "# formatação dos nomes para visualização\n",
        "labels = [gen[7:] for gen in df_top_rev_gen.index]\n",
        "\n",
        "# plot\n",
        "df_top_rev_gen.plot.pie(autopct='%1.1f%%',\n",
        "                        pctdistance=0.8,\n",
        "                        radius=1.25,\n",
        "                        labels=labels,\n",
        "                        cmap=cmap)\n",
        "plt.ylabel(' ')\n",
        "plt.suptitle('Gêneros mais frequentes no TOP 10 (receita)');"
      ],
      "execution_count": null,
      "outputs": []
    }
  ]
}