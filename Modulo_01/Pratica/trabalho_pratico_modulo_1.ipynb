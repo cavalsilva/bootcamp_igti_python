{
 "cells": [
  {
   "cell_type": "code",
   "execution_count": 1,
   "metadata": {
    "tags": []
   },
   "outputs": [
    {
     "output_type": "stream",
     "name": "stdout",
     "text": "No próximo ano você terá: 31 anos\n"
    }
   ],
   "source": [
    "# Código 1\n",
    "idade = int(input(\"Entre com a sua idade:\"))\n",
    "nova_idade = idade + 1\n",
    "print(\"No próximo ano você terá: {} anos\".format(nova_idade))"
   ]
  },
  {
   "cell_type": "code",
   "execution_count": 2,
   "metadata": {
    "tags": []
   },
   "outputs": [
    {
     "output_type": "stream",
     "name": "stdout",
     "text": "O retângulo de lado A = 35 e lado B = 14.33 é 501.667\n"
    }
   ],
   "source": [
    "# Código 2\n",
    "lado_a = 35\n",
    "lado_b = 14.33333\n",
    "area_do_retangulo = (lado_a) * (lado_b)\n",
    "print('O retângulo de lado A = %d e lado B = %.2f é %.3f' %(lado_a, lado_b, area_do_retangulo))"
   ]
  },
  {
   "cell_type": "code",
   "execution_count": 3,
   "metadata": {
    "tags": []
   },
   "outputs": [
    {
     "output_type": "stream",
     "name": "stdout",
     "text": "[1, 2, 'IGTI', 2, 3, 'Bootcamp']\n"
    }
   ],
   "source": [
    "# Código 3\n",
    "lista_1 = [1,2,'IGTI']\n",
    "lsita_2 = [2,3,\"Bootcamp\"]\n",
    "lista_3 = lista_1 + lsita_2\n",
    "print(lista_3)"
   ]
  },
  {
   "cell_type": "code",
   "execution_count": 4,
   "metadata": {
    "tags": []
   },
   "outputs": [
    {
     "output_type": "stream",
     "name": "stdout",
     "text": "Você acertou um dos números que eu estava pensando.\nEsse número é menor do que 20.\nVocê é fera.\nObrigado por participar.\n"
    }
   ],
   "source": [
    "# Código 4\n",
    "chute = int(input('Entre com um valor inteiro de 0 a 30: '))\n",
    "adivinhacao = [5,6,10,14,16,20,30]\n",
    "if chute in adivinhacao:\n",
    "    print('Você acertou um dos números que eu estava pensando.')\n",
    "\n",
    "    if chute > 15:\n",
    "        print('Esse número é maior que 20.')\n",
    "    \n",
    "    if chute < 20:\n",
    "        print('Esse número é menor do que 20.')\n",
    "\n",
    "    print('Você é fera.')\n",
    "\n",
    "else:\n",
    "    print('Que pena, você errou. Pode tentar outra vez.')\n",
    "print('Obrigado por participar.')"
   ]
  },
  {
   "cell_type": "code",
   "execution_count": 5,
   "metadata": {
    "tags": []
   },
   "outputs": [
    {
     "output_type": "stream",
     "name": "stdout",
     "text": "maçã\nbanana\n"
    }
   ],
   "source": [
    "# Código 5\n",
    "frutas = [\"maçã\", \"banana\", \"uva\", \"goiaba\"]\n",
    "for x in frutas:\n",
    "    if x == \"uva\":\n",
    "        break;\n",
    "    print(x)"
   ]
  },
  {
   "cell_type": "code",
   "execution_count": 6,
   "metadata": {
    "tags": []
   },
   "outputs": [
    {
     "output_type": "stream",
     "name": "stdout",
     "text": "4\n3\n2\n1\n0\n-1\n"
    }
   ],
   "source": [
    "# Código 6\n",
    "n = 5\n",
    "while n >= 0:\n",
    "    n -= 1\n",
    "    print(n)"
   ]
  }
 ],
 "metadata": {
  "language_info": {
   "codemirror_mode": {
    "name": "ipython",
    "version": 3
   },
   "file_extension": ".py",
   "mimetype": "text/x-python",
   "name": "python",
   "nbconvert_exporter": "python",
   "pygments_lexer": "ipython3",
   "version": 3
  },
  "orig_nbformat": 2,
  "kernelspec": {
   "name": "python_defaultSpec_1594819008361",
   "display_name": "Python 3.8.3 32-bit"
  }
 },
 "nbformat": 4,
 "nbformat_minor": 2
}