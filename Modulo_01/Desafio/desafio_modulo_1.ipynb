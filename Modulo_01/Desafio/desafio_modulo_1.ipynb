{
 "cells": [
  {
   "cell_type": "code",
   "execution_count": 41,
   "metadata": {
    "tags": []
   },
   "outputs": [
    {
     "output_type": "stream",
     "name": "stdout",
     "text": "600\n"
    }
   ],
   "source": [
    "# Código 1\n",
    "def funcao_1(num1, num2):\n",
    "    resultado = num1 * num2\n",
    "    if resultado <= 1000:\n",
    "        return resultado\n",
    "    else:\n",
    "        return num1 + num2\n",
    "\n",
    "numero_1 = 20\n",
    "numero_2 = 30\n",
    "\n",
    "print(funcao_1(numero_1, numero_2))"
   ]
  },
  {
   "cell_type": "code",
   "execution_count": 42,
   "metadata": {
    "tags": []
   },
   "outputs": [
    {
     "output_type": "stream",
     "name": "stdout",
     "text": "Numero A 0 Numero B  0  Resultado:  0\nNumero A 1 Numero B  0  Resultado:  1\nNumero A 2 Numero B  1  Resultado:  3\nNumero A 3 Numero B  2  Resultado:  5\nNumero A 4 Numero B  3  Resultado:  7\nNumero A 5 Numero B  4  Resultado:  9\nNumero A 6 Numero B  5  Resultado:  11\nNumero A 7 Numero B  6  Resultado:  13\nNumero A 8 Numero B  7  Resultado:  15\nNumero A 9 Numero B  8  Resultado:  17\n"
    }
   ],
   "source": [
    "# Código 2\n",
    "def funcao_2(num):\n",
    "    numero_anterior = 0\n",
    "    for i in range(num):\n",
    "        resultado = numero_anterior + i\n",
    "        print(\"Numero A\", i, \"Numero B \", numero_anterior, \" Resultado: \", resultado)\n",
    "        numero_anterior = i\n",
    "\n",
    "funcao_2(10)        "
   ]
  },
  {
   "cell_type": "code",
   "execution_count": 43,
   "metadata": {
    "tags": []
   },
   "outputs": [
    {
     "output_type": "stream",
     "name": "stdout",
     "text": "valor passado  [10, 20, 30, 40, 10]\nTrue\n"
    }
   ],
   "source": [
    "# Código 4\n",
    "def funcao_4(lista_numerica):\n",
    "    print(\"valor passado \", lista_numerica)\n",
    "    a = lista_numerica[0]\n",
    "    b = lista_numerica[-1]\n",
    "    if (a == b):\n",
    "        return True\n",
    "    else:\n",
    "        return False\n",
    "\n",
    "numeros = [10, 20, 30, 40, 10]\n",
    "print(funcao_4(numeros))"
   ]
  },
  {
   "cell_type": "code",
   "execution_count": 44,
   "metadata": {
    "tags": []
   },
   "outputs": [
    {
     "output_type": "stream",
     "name": "stdout",
     "text": "15\n"
    }
   ],
   "source": [
    "# Código 5\n",
    "class Classe_1:\n",
    "    def funcao_da_classe_1(self, string):\n",
    "        dicionario = {'I': 1, 'V': 5, 'X': 10, 'L': 50, 'C': 100, 'D': 500, 'M': 1000}\n",
    "        valor = 0\n",
    "        for i in range(len(string)):\n",
    "            if i > 0 and dicionario[string[i]] > dicionario[string[i - 1]]:\n",
    "                valor += dicionario[string[i]] - 2 * dicionario[string[i - 1]]\n",
    "            else:\n",
    "                valor += dicionario[string[i]]\n",
    "        return valor\n",
    "\n",
    "minha_classe_1 = Classe_1()\n",
    "resultado_minha_classe_1 = minha_classe_1.funcao_da_classe_1(\"XV\")\n",
    "print(resultado_minha_classe_1)"
   ]
  },
  {
   "cell_type": "code",
   "execution_count": 45,
   "metadata": {
    "tags": []
   },
   "outputs": [
    {
     "output_type": "stream",
     "name": "stdout",
     "text": "i da Classe A 3\ni da Classe A 60\n"
    }
   ],
   "source": [
    "# Código 6\n",
    "class A:\n",
    "    def __init__(self):\n",
    "        self.calcI(30)\n",
    "        print(\"i da Classe A\", self.i)\n",
    "\n",
    "    def calcI(self, i):\n",
    "        self.i = 2 * i\n",
    "\n",
    "class B(A):\n",
    "    def __init__(self):\n",
    "        super().__init__()\n",
    "\n",
    "    def calcI(self, i):\n",
    "        self.i = 3 * 1\n",
    "\n",
    "b = B()\n",
    "a = A()"
   ]
  },
  {
   "cell_type": "code",
   "execution_count": 46,
   "metadata": {
    "tags": []
   },
   "outputs": [
    {
     "output_type": "stream",
     "name": "stdout",
     "text": "120\n"
    }
   ],
   "source": [
    "# Código 7\n",
    "class Classe_2():\n",
    "    def __init__(self, l, w):\n",
    "        self.a = l\n",
    "        self.b = w\n",
    "\n",
    "    def metodo_1(self):\n",
    "        return self.a * self.b\n",
    "\n",
    "objeto_1 = Classe_2(12, 10)\n",
    "print(objeto_1.metodo_1())"
   ]
  }
 ],
 "metadata": {
  "language_info": {
   "codemirror_mode": {
    "name": "ipython",
    "version": 3
   },
   "file_extension": ".py",
   "mimetype": "text/x-python",
   "name": "python",
   "nbconvert_exporter": "python",
   "pygments_lexer": "ipython3",
   "version": 3
  },
  "orig_nbformat": 2,
  "kernelspec": {
   "name": "python_defaultSpec_1595064644051",
   "display_name": "Python 3.8.3 32-bit"
  }
 },
 "nbformat": 4,
 "nbformat_minor": 2
}